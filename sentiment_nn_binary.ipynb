{
  "nbformat": 4,
  "nbformat_minor": 0,
  "metadata": {
    "colab": {
      "name": "sentiment_nn_binary.ipynb",
      "provenance": []
    },
    "kernelspec": {
      "name": "python3",
      "display_name": "Python 3"
    },
    "language_info": {
      "name": "python"
    }
  },
  "cells": [
    {
      "cell_type": "code",
      "execution_count": 1,
      "metadata": {
        "id": "TSg_IT3lTosV"
      },
      "outputs": [],
      "source": [
        "import pandas as pd\n",
        "import tensorflow as tf\n",
        "import matplotlib.pyplot as plt\n",
        "from sklearn.model_selection import train_test_split\n",
        "from sklearn.preprocessing import StandardScaler,OneHotEncoder\n",
        "from google.colab import drive"
      ]
    },
    {
      "cell_type": "code",
      "source": [
        "# Mount drive and import files\n",
        "drive.mount('/content/drive')"
      ],
      "metadata": {
        "colab": {
          "base_uri": "https://localhost:8080/"
        },
        "id": "ArxwvkCxUyY4",
        "outputId": "493a7901-8a90-4f53-b0fb-6c4a0a15df98"
      },
      "execution_count": 2,
      "outputs": [
        {
          "output_type": "stream",
          "name": "stdout",
          "text": [
            "Mounted at /content/drive\n"
          ]
        }
      ]
    },
    {
      "cell_type": "code",
      "source": [
        "# define filepath\n",
        "file_path = \"/content/drive/MyDrive/Sentiment_Data/cleaned_sentinment_1.csv\""
      ],
      "metadata": {
        "id": "_g_-HwR0VAB7"
      },
      "execution_count": 24,
      "outputs": []
    },
    {
      "cell_type": "code",
      "source": [
        "sentiment_df = pd.read_csv(file_path)\n",
        "sentiment_df.head()"
      ],
      "metadata": {
        "colab": {
          "base_uri": "https://localhost:8080/",
          "height": 404
        },
        "id": "iA3jxFiHVMAi",
        "outputId": "1c67aecb-0e5a-45ea-ae64-0f668df4db71"
      },
      "execution_count": 37,
      "outputs": [
        {
          "output_type": "execute_result",
          "data": {
            "text/plain": [
              "   Unnamed: 0 ticker        date  overall_sent_comp  overall_sent_pos  \\\n",
              "0           0    DIS  2020-08-11             0.5078             0.102   \n",
              "1           1    DIS  2020-08-11             0.8658             0.245   \n",
              "2           2    DIS  2020-08-11             0.5078             0.102   \n",
              "3           3    DIS  2020-08-11             0.5078             0.102   \n",
              "4           4    DIS  2020-08-11            -0.5994             0.000   \n",
              "\n",
              "   overall_sent_neg  mean_t_comp_score  mean_t_pos_score  mean_t_neg_score  \\\n",
              "0             0.075           0.087067          0.117833            0.0485   \n",
              "1             0.036           0.176100          0.164667            0.0740   \n",
              "2             0.075           0.087067          0.117833            0.0485   \n",
              "3             0.075           0.087067          0.117833            0.0485   \n",
              "4             0.438          -0.599400          0.000000            0.4380   \n",
              "\n",
              "   mean_tgt_comp_score  ...  CloseOver60  VolumeOver60 CloseOver90  \\\n",
              "0              -0.5818  ...   127.534833  8.716522e+06  135.033889   \n",
              "1               0.7783  ...   127.534833  8.716522e+06  135.033889   \n",
              "2              -0.5818  ...   127.534833  8.716522e+06  135.033889   \n",
              "3              -0.5818  ...   127.534833  8.716522e+06  135.033889   \n",
              "4              -0.5994  ...   127.534833  8.716522e+06  135.033889   \n",
              "\n",
              "   VolumeOver90  Co30_d  Co60_d  Co90_d  Vo30_d  Vo60_d  Vo90_d  \n",
              "0    10756920.0       1       0       1       0       0       0  \n",
              "1    10756920.0       1       0       1       0       0       0  \n",
              "2    10756920.0       1       0       1       0       0       0  \n",
              "3    10756920.0       1       0       1       0       0       0  \n",
              "4    10756920.0       1       0       1       0       0       0  \n",
              "\n",
              "[5 rows x 28 columns]"
            ],
            "text/html": [
              "\n",
              "  <div id=\"df-eb807f48-a10a-43ef-9f3a-e3723184d8a7\">\n",
              "    <div class=\"colab-df-container\">\n",
              "      <div>\n",
              "<style scoped>\n",
              "    .dataframe tbody tr th:only-of-type {\n",
              "        vertical-align: middle;\n",
              "    }\n",
              "\n",
              "    .dataframe tbody tr th {\n",
              "        vertical-align: top;\n",
              "    }\n",
              "\n",
              "    .dataframe thead th {\n",
              "        text-align: right;\n",
              "    }\n",
              "</style>\n",
              "<table border=\"1\" class=\"dataframe\">\n",
              "  <thead>\n",
              "    <tr style=\"text-align: right;\">\n",
              "      <th></th>\n",
              "      <th>Unnamed: 0</th>\n",
              "      <th>ticker</th>\n",
              "      <th>date</th>\n",
              "      <th>overall_sent_comp</th>\n",
              "      <th>overall_sent_pos</th>\n",
              "      <th>overall_sent_neg</th>\n",
              "      <th>mean_t_comp_score</th>\n",
              "      <th>mean_t_pos_score</th>\n",
              "      <th>mean_t_neg_score</th>\n",
              "      <th>mean_tgt_comp_score</th>\n",
              "      <th>...</th>\n",
              "      <th>CloseOver60</th>\n",
              "      <th>VolumeOver60</th>\n",
              "      <th>CloseOver90</th>\n",
              "      <th>VolumeOver90</th>\n",
              "      <th>Co30_d</th>\n",
              "      <th>Co60_d</th>\n",
              "      <th>Co90_d</th>\n",
              "      <th>Vo30_d</th>\n",
              "      <th>Vo60_d</th>\n",
              "      <th>Vo90_d</th>\n",
              "    </tr>\n",
              "  </thead>\n",
              "  <tbody>\n",
              "    <tr>\n",
              "      <th>0</th>\n",
              "      <td>0</td>\n",
              "      <td>DIS</td>\n",
              "      <td>2020-08-11</td>\n",
              "      <td>0.5078</td>\n",
              "      <td>0.102</td>\n",
              "      <td>0.075</td>\n",
              "      <td>0.087067</td>\n",
              "      <td>0.117833</td>\n",
              "      <td>0.0485</td>\n",
              "      <td>-0.5818</td>\n",
              "      <td>...</td>\n",
              "      <td>127.534833</td>\n",
              "      <td>8.716522e+06</td>\n",
              "      <td>135.033889</td>\n",
              "      <td>10756920.0</td>\n",
              "      <td>1</td>\n",
              "      <td>0</td>\n",
              "      <td>1</td>\n",
              "      <td>0</td>\n",
              "      <td>0</td>\n",
              "      <td>0</td>\n",
              "    </tr>\n",
              "    <tr>\n",
              "      <th>1</th>\n",
              "      <td>1</td>\n",
              "      <td>DIS</td>\n",
              "      <td>2020-08-11</td>\n",
              "      <td>0.8658</td>\n",
              "      <td>0.245</td>\n",
              "      <td>0.036</td>\n",
              "      <td>0.176100</td>\n",
              "      <td>0.164667</td>\n",
              "      <td>0.0740</td>\n",
              "      <td>0.7783</td>\n",
              "      <td>...</td>\n",
              "      <td>127.534833</td>\n",
              "      <td>8.716522e+06</td>\n",
              "      <td>135.033889</td>\n",
              "      <td>10756920.0</td>\n",
              "      <td>1</td>\n",
              "      <td>0</td>\n",
              "      <td>1</td>\n",
              "      <td>0</td>\n",
              "      <td>0</td>\n",
              "      <td>0</td>\n",
              "    </tr>\n",
              "    <tr>\n",
              "      <th>2</th>\n",
              "      <td>2</td>\n",
              "      <td>DIS</td>\n",
              "      <td>2020-08-11</td>\n",
              "      <td>0.5078</td>\n",
              "      <td>0.102</td>\n",
              "      <td>0.075</td>\n",
              "      <td>0.087067</td>\n",
              "      <td>0.117833</td>\n",
              "      <td>0.0485</td>\n",
              "      <td>-0.5818</td>\n",
              "      <td>...</td>\n",
              "      <td>127.534833</td>\n",
              "      <td>8.716522e+06</td>\n",
              "      <td>135.033889</td>\n",
              "      <td>10756920.0</td>\n",
              "      <td>1</td>\n",
              "      <td>0</td>\n",
              "      <td>1</td>\n",
              "      <td>0</td>\n",
              "      <td>0</td>\n",
              "      <td>0</td>\n",
              "    </tr>\n",
              "    <tr>\n",
              "      <th>3</th>\n",
              "      <td>3</td>\n",
              "      <td>DIS</td>\n",
              "      <td>2020-08-11</td>\n",
              "      <td>0.5078</td>\n",
              "      <td>0.102</td>\n",
              "      <td>0.075</td>\n",
              "      <td>0.087067</td>\n",
              "      <td>0.117833</td>\n",
              "      <td>0.0485</td>\n",
              "      <td>-0.5818</td>\n",
              "      <td>...</td>\n",
              "      <td>127.534833</td>\n",
              "      <td>8.716522e+06</td>\n",
              "      <td>135.033889</td>\n",
              "      <td>10756920.0</td>\n",
              "      <td>1</td>\n",
              "      <td>0</td>\n",
              "      <td>1</td>\n",
              "      <td>0</td>\n",
              "      <td>0</td>\n",
              "      <td>0</td>\n",
              "    </tr>\n",
              "    <tr>\n",
              "      <th>4</th>\n",
              "      <td>4</td>\n",
              "      <td>DIS</td>\n",
              "      <td>2020-08-11</td>\n",
              "      <td>-0.5994</td>\n",
              "      <td>0.000</td>\n",
              "      <td>0.438</td>\n",
              "      <td>-0.599400</td>\n",
              "      <td>0.000000</td>\n",
              "      <td>0.4380</td>\n",
              "      <td>-0.5994</td>\n",
              "      <td>...</td>\n",
              "      <td>127.534833</td>\n",
              "      <td>8.716522e+06</td>\n",
              "      <td>135.033889</td>\n",
              "      <td>10756920.0</td>\n",
              "      <td>1</td>\n",
              "      <td>0</td>\n",
              "      <td>1</td>\n",
              "      <td>0</td>\n",
              "      <td>0</td>\n",
              "      <td>0</td>\n",
              "    </tr>\n",
              "  </tbody>\n",
              "</table>\n",
              "<p>5 rows × 28 columns</p>\n",
              "</div>\n",
              "      <button class=\"colab-df-convert\" onclick=\"convertToInteractive('df-eb807f48-a10a-43ef-9f3a-e3723184d8a7')\"\n",
              "              title=\"Convert this dataframe to an interactive table.\"\n",
              "              style=\"display:none;\">\n",
              "        \n",
              "  <svg xmlns=\"http://www.w3.org/2000/svg\" height=\"24px\"viewBox=\"0 0 24 24\"\n",
              "       width=\"24px\">\n",
              "    <path d=\"M0 0h24v24H0V0z\" fill=\"none\"/>\n",
              "    <path d=\"M18.56 5.44l.94 2.06.94-2.06 2.06-.94-2.06-.94-.94-2.06-.94 2.06-2.06.94zm-11 1L8.5 8.5l.94-2.06 2.06-.94-2.06-.94L8.5 2.5l-.94 2.06-2.06.94zm10 10l.94 2.06.94-2.06 2.06-.94-2.06-.94-.94-2.06-.94 2.06-2.06.94z\"/><path d=\"M17.41 7.96l-1.37-1.37c-.4-.4-.92-.59-1.43-.59-.52 0-1.04.2-1.43.59L10.3 9.45l-7.72 7.72c-.78.78-.78 2.05 0 2.83L4 21.41c.39.39.9.59 1.41.59.51 0 1.02-.2 1.41-.59l7.78-7.78 2.81-2.81c.8-.78.8-2.07 0-2.86zM5.41 20L4 18.59l7.72-7.72 1.47 1.35L5.41 20z\"/>\n",
              "  </svg>\n",
              "      </button>\n",
              "      \n",
              "  <style>\n",
              "    .colab-df-container {\n",
              "      display:flex;\n",
              "      flex-wrap:wrap;\n",
              "      gap: 12px;\n",
              "    }\n",
              "\n",
              "    .colab-df-convert {\n",
              "      background-color: #E8F0FE;\n",
              "      border: none;\n",
              "      border-radius: 50%;\n",
              "      cursor: pointer;\n",
              "      display: none;\n",
              "      fill: #1967D2;\n",
              "      height: 32px;\n",
              "      padding: 0 0 0 0;\n",
              "      width: 32px;\n",
              "    }\n",
              "\n",
              "    .colab-df-convert:hover {\n",
              "      background-color: #E2EBFA;\n",
              "      box-shadow: 0px 1px 2px rgba(60, 64, 67, 0.3), 0px 1px 3px 1px rgba(60, 64, 67, 0.15);\n",
              "      fill: #174EA6;\n",
              "    }\n",
              "\n",
              "    [theme=dark] .colab-df-convert {\n",
              "      background-color: #3B4455;\n",
              "      fill: #D2E3FC;\n",
              "    }\n",
              "\n",
              "    [theme=dark] .colab-df-convert:hover {\n",
              "      background-color: #434B5C;\n",
              "      box-shadow: 0px 1px 3px 1px rgba(0, 0, 0, 0.15);\n",
              "      filter: drop-shadow(0px 1px 2px rgba(0, 0, 0, 0.3));\n",
              "      fill: #FFFFFF;\n",
              "    }\n",
              "  </style>\n",
              "\n",
              "      <script>\n",
              "        const buttonEl =\n",
              "          document.querySelector('#df-eb807f48-a10a-43ef-9f3a-e3723184d8a7 button.colab-df-convert');\n",
              "        buttonEl.style.display =\n",
              "          google.colab.kernel.accessAllowed ? 'block' : 'none';\n",
              "\n",
              "        async function convertToInteractive(key) {\n",
              "          const element = document.querySelector('#df-eb807f48-a10a-43ef-9f3a-e3723184d8a7');\n",
              "          const dataTable =\n",
              "            await google.colab.kernel.invokeFunction('convertToInteractive',\n",
              "                                                     [key], {});\n",
              "          if (!dataTable) return;\n",
              "\n",
              "          const docLinkHtml = 'Like what you see? Visit the ' +\n",
              "            '<a target=\"_blank\" href=https://colab.research.google.com/notebooks/data_table.ipynb>data table notebook</a>'\n",
              "            + ' to learn more about interactive tables.';\n",
              "          element.innerHTML = '';\n",
              "          dataTable['output_type'] = 'display_data';\n",
              "          await google.colab.output.renderOutput(dataTable, element);\n",
              "          const docLink = document.createElement('div');\n",
              "          docLink.innerHTML = docLinkHtml;\n",
              "          element.appendChild(docLink);\n",
              "        }\n",
              "      </script>\n",
              "    </div>\n",
              "  </div>\n",
              "  "
            ]
          },
          "metadata": {},
          "execution_count": 37
        }
      ]
    },
    {
      "cell_type": "code",
      "source": [
        "len(sentiment_df.index)"
      ],
      "metadata": {
        "colab": {
          "base_uri": "https://localhost:8080/"
        },
        "id": "oKAUiiwkhfkK",
        "outputId": "08c16c72-4335-4cf2-e77e-1b6cbdf25e6b"
      },
      "execution_count": 38,
      "outputs": [
        {
          "output_type": "execute_result",
          "data": {
            "text/plain": [
              "698140"
            ]
          },
          "metadata": {},
          "execution_count": 38
        }
      ]
    },
    {
      "cell_type": "code",
      "source": [
        "sentiment_df = sentiment_df.drop(columns='Unnamed: 0')"
      ],
      "metadata": {
        "id": "XGOBsTiTViiF"
      },
      "execution_count": 39,
      "outputs": []
    },
    {
      "cell_type": "code",
      "source": [
        "sentiment_df.columns"
      ],
      "metadata": {
        "colab": {
          "base_uri": "https://localhost:8080/"
        },
        "id": "mDhoopkgVx_y",
        "outputId": "25ce719d-3834-40ad-c76b-ce67eb9ba6cb"
      },
      "execution_count": 40,
      "outputs": [
        {
          "output_type": "execute_result",
          "data": {
            "text/plain": [
              "Index(['ticker', 'date', 'overall_sent_comp', 'overall_sent_pos',\n",
              "       'overall_sent_neg', 'mean_t_comp_score', 'mean_t_pos_score',\n",
              "       'mean_t_neg_score', 'mean_tgt_comp_score', 'mean_tgt_pos_score',\n",
              "       'mean_tgt_neg_score', 'verb_tense', 'mean_custom_score', 'Close',\n",
              "       'Volume', 'CloseOver30', 'VolumeOver30', 'CloseOver60', 'VolumeOver60',\n",
              "       'CloseOver90', 'VolumeOver90', 'Co30_d', 'Co60_d', 'Co90_d', 'Vo30_d',\n",
              "       'Vo60_d', 'Vo90_d'],\n",
              "      dtype='object')"
            ]
          },
          "metadata": {},
          "execution_count": 40
        }
      ]
    },
    {
      "cell_type": "code",
      "source": [
        "# sanitize and convert to numeric\n",
        "#sent_comp = pd.to_numeric(sentiment_df['overall_sent_comp'], errors='coerce')\n",
        "#sentiment_df['overall_sent_comp'] = sent_comp\n",
        "#sentiment_df = sentiment_df.dropna(how='any')\n",
        "#sentiment_df = sentiment_df.astype('float64')"
      ],
      "metadata": {
        "id": "nr85FcKrlA7o"
      },
      "execution_count": 41,
      "outputs": []
    },
    {
      "cell_type": "code",
      "source": [
        "# Set up the different target arrays\n",
        "y_1 = sentiment_df['Co30_d']\n",
        "y_2 = sentiment_df['Co60_d']\n",
        "y_3 = sentiment_df['Co90_d']\n",
        "\n",
        "#verb_tense = sentiment_df['verb_tense']\n",
        "\n",
        "X = sentiment_df.drop(columns=['Close', 'ticker', 'date', 'verb_tense',\n",
        "       'Volume', 'CloseOver30', 'VolumeOver30', 'CloseOver60', 'VolumeOver60',\n",
        "       'CloseOver90', 'VolumeOver90', 'Co30_d', 'Co60_d', 'Co90_d', 'Vo30_d',\n",
        "       'Vo60_d', 'Vo90_d'])\n",
        "\n",
        "\n",
        "X = X.astype('float64')\n",
        "# add verb_tense field back in\n",
        "#X['verb_tense'] = verb_tense\n",
        "#X = pd.get_dummies(sentiment_df)\n",
        "\n",
        "#sent_comp = pd.to_numeric(X['overall_sent_comp'], errors='coerce')"
      ],
      "metadata": {
        "id": "HtVaKNb_V0C3"
      },
      "execution_count": 42,
      "outputs": []
    },
    {
      "cell_type": "code",
      "source": [
        "X.dtypes"
      ],
      "metadata": {
        "colab": {
          "base_uri": "https://localhost:8080/"
        },
        "id": "eCy9qDNJckQW",
        "outputId": "a52669e4-7054-4e1d-bf35-8ce11bb1eaa2"
      },
      "execution_count": 43,
      "outputs": [
        {
          "output_type": "execute_result",
          "data": {
            "text/plain": [
              "overall_sent_comp      float64\n",
              "overall_sent_pos       float64\n",
              "overall_sent_neg       float64\n",
              "mean_t_comp_score      float64\n",
              "mean_t_pos_score       float64\n",
              "mean_t_neg_score       float64\n",
              "mean_tgt_comp_score    float64\n",
              "mean_tgt_pos_score     float64\n",
              "mean_tgt_neg_score     float64\n",
              "mean_custom_score      float64\n",
              "dtype: object"
            ]
          },
          "metadata": {},
          "execution_count": 43
        }
      ]
    },
    {
      "cell_type": "code",
      "source": [
        "# Split the preprocessed data into a training and testing dataset\n",
        "X_train, X_test, y_train, y_test = train_test_split(X, y_1)"
      ],
      "metadata": {
        "id": "YsEMsEu1YlH1"
      },
      "execution_count": 44,
      "outputs": []
    },
    {
      "cell_type": "code",
      "source": [
        "len(list(X_train.head(n=1)))"
      ],
      "metadata": {
        "colab": {
          "base_uri": "https://localhost:8080/"
        },
        "id": "J2x2WUY4ZV_5",
        "outputId": "d7da1ad0-ddaf-4e47-c300-5c3c9569b7b6"
      },
      "execution_count": 45,
      "outputs": [
        {
          "output_type": "execute_result",
          "data": {
            "text/plain": [
              "10"
            ]
          },
          "metadata": {},
          "execution_count": 45
        }
      ]
    },
    {
      "cell_type": "code",
      "source": [
        "# All data should already be scaled due to sentiment generated value thresholds\n",
        "# Define the model - deep neural net, i.e., the number of input features and hidden nodes for each layer.\n",
        "number_input_features = len(list(X_train.head(n=1)))\n",
        "hidden_nodes_layer1 = 5\n",
        "#hidden_nodes_layer2 = 3\n",
        "\n",
        "nn = tf.keras.models.Sequential()\n",
        "\n",
        "# First hidden layer\n",
        "nn.add(\n",
        "    tf.keras.layers.Dense(units=hidden_nodes_layer1, input_dim=number_input_features, activation=\"relu\")\n",
        ")\n",
        "\n",
        "# Second hidden layer\n",
        "#nn.add(tf.keras.layers.Dense(units=hidden_nodes_layer2, activation=\"relu\"))\n",
        "\n",
        "# Output layer\n",
        "nn.add(tf.keras.layers.Dense(units=1, activation=\"sigmoid\"))\n",
        "\n",
        "# Check the structure of the model\n",
        "nn.summary()"
      ],
      "metadata": {
        "colab": {
          "base_uri": "https://localhost:8080/"
        },
        "id": "2U-Wcj62XTFW",
        "outputId": "edc6a4ea-9959-4869-d5ab-a6fa90923148"
      },
      "execution_count": 46,
      "outputs": [
        {
          "output_type": "stream",
          "name": "stdout",
          "text": [
            "Model: \"sequential_6\"\n",
            "_________________________________________________________________\n",
            " Layer (type)                Output Shape              Param #   \n",
            "=================================================================\n",
            " dense_15 (Dense)            (None, 5)                 55        \n",
            "                                                                 \n",
            " dense_16 (Dense)            (None, 1)                 6         \n",
            "                                                                 \n",
            "=================================================================\n",
            "Total params: 61\n",
            "Trainable params: 61\n",
            "Non-trainable params: 0\n",
            "_________________________________________________________________\n"
          ]
        }
      ]
    },
    {
      "cell_type": "code",
      "source": [
        "# Compile the model\n",
        "nn.compile(loss=\"binary_crossentropy\", optimizer=\"adam\", metrics=[\"accuracy\"])"
      ],
      "metadata": {
        "id": "nU9fGosLanPF"
      },
      "execution_count": 47,
      "outputs": []
    },
    {
      "cell_type": "code",
      "source": [
        "# Train the model\n",
        "fit_model = nn.fit(X_train,\n",
        "                   y_train,\n",
        "                   epochs=10)"
      ],
      "metadata": {
        "colab": {
          "base_uri": "https://localhost:8080/"
        },
        "id": "1zTTY-V7av0e",
        "outputId": "a13136ce-6954-4105-b6b8-6b1eea89618f"
      },
      "execution_count": 48,
      "outputs": [
        {
          "output_type": "stream",
          "name": "stdout",
          "text": [
            "Epoch 1/10\n",
            "16363/16363 [==============================] - 29s 2ms/step - loss: 0.6685 - accuracy: 0.5995\n",
            "Epoch 2/10\n",
            "16363/16363 [==============================] - 28s 2ms/step - loss: 0.6664 - accuracy: 0.6046\n",
            "Epoch 3/10\n",
            "16363/16363 [==============================] - 27s 2ms/step - loss: 0.6662 - accuracy: 0.6045\n",
            "Epoch 4/10\n",
            "16363/16363 [==============================] - 27s 2ms/step - loss: 0.6661 - accuracy: 0.6044\n",
            "Epoch 5/10\n",
            "16363/16363 [==============================] - 27s 2ms/step - loss: 0.6660 - accuracy: 0.6044\n",
            "Epoch 6/10\n",
            "16363/16363 [==============================] - 29s 2ms/step - loss: 0.6660 - accuracy: 0.6044\n",
            "Epoch 7/10\n",
            "16363/16363 [==============================] - 27s 2ms/step - loss: 0.6660 - accuracy: 0.6045\n",
            "Epoch 8/10\n",
            "16363/16363 [==============================] - 27s 2ms/step - loss: 0.6660 - accuracy: 0.6045\n",
            "Epoch 9/10\n",
            "16363/16363 [==============================] - 28s 2ms/step - loss: 0.6660 - accuracy: 0.6045\n",
            "Epoch 10/10\n",
            "16363/16363 [==============================] - 28s 2ms/step - loss: 0.6659 - accuracy: 0.6045\n"
          ]
        }
      ]
    },
    {
      "cell_type": "code",
      "source": [
        "# Evaluate the model using the test data\n",
        "model_loss, model_accuracy = nn.evaluate(X_test,y_test,verbose=2)\n",
        "print(f\"Loss: {model_loss}, Accuracy: {model_accuracy}\")"
      ],
      "metadata": {
        "colab": {
          "base_uri": "https://localhost:8080/"
        },
        "id": "ZADtfOJMa1ZZ",
        "outputId": "eaf87509-3c95-453c-e246-a50441341425"
      },
      "execution_count": 49,
      "outputs": [
        {
          "output_type": "stream",
          "name": "stdout",
          "text": [
            "5455/5455 - 9s - loss: 0.6671 - accuracy: 0.6027 - 9s/epoch - 2ms/step\n",
            "Loss: 0.6670926213264465, Accuracy: 0.6026527881622314\n"
          ]
        }
      ]
    },
    {
      "cell_type": "code",
      "source": [
        "# Testing out N60 \n",
        "# Split the preprocessed data into a training and testing dataset\n",
        "X_train, X_test, y_train, y_test = train_test_split(X, y_2)"
      ],
      "metadata": {
        "id": "RUm9aOpGu0za"
      },
      "execution_count": 50,
      "outputs": []
    },
    {
      "cell_type": "code",
      "source": [
        "# All data should already be scaled due to sentiment generated value thresholds\n",
        "# Define the model - deep neural net, i.e., the number of input features and hidden nodes for each layer.\n",
        "number_input_features = len(list(X_train.head(n=1)))\n",
        "hidden_nodes_layer1 = 5\n",
        "#hidden_nodes_layer2 = 3\n",
        "\n",
        "nn = tf.keras.models.Sequential()\n",
        "\n",
        "# First hidden layer\n",
        "nn.add(\n",
        "    tf.keras.layers.Dense(units=hidden_nodes_layer1, input_dim=number_input_features, activation=\"relu\")\n",
        ")\n",
        "\n",
        "# Second hidden layer\n",
        "#nn.add(tf.keras.layers.Dense(units=hidden_nodes_layer2, activation=\"relu\"))\n",
        "\n",
        "# Output layer\n",
        "nn.add(tf.keras.layers.Dense(units=1, activation=\"sigmoid\"))\n",
        "\n",
        "# Check the structure of the model\n",
        "nn.summary()"
      ],
      "metadata": {
        "id": "qxhiKI0Nu8jB",
        "colab": {
          "base_uri": "https://localhost:8080/"
        },
        "outputId": "866b0101-62e2-447f-eb51-695051bd7629"
      },
      "execution_count": 51,
      "outputs": [
        {
          "output_type": "stream",
          "name": "stdout",
          "text": [
            "Model: \"sequential_7\"\n",
            "_________________________________________________________________\n",
            " Layer (type)                Output Shape              Param #   \n",
            "=================================================================\n",
            " dense_17 (Dense)            (None, 5)                 55        \n",
            "                                                                 \n",
            " dense_18 (Dense)            (None, 1)                 6         \n",
            "                                                                 \n",
            "=================================================================\n",
            "Total params: 61\n",
            "Trainable params: 61\n",
            "Non-trainable params: 0\n",
            "_________________________________________________________________\n"
          ]
        }
      ]
    },
    {
      "cell_type": "code",
      "source": [
        "# Compile the model\n",
        "nn.compile(loss=\"binary_crossentropy\", optimizer=\"adam\", metrics=[\"accuracy\"])"
      ],
      "metadata": {
        "id": "ucmx48IlNCzF"
      },
      "execution_count": 52,
      "outputs": []
    },
    {
      "cell_type": "code",
      "source": [
        "# Train the model\n",
        "fit_model = nn.fit(X_train,\n",
        "                   y_train,\n",
        "                   epochs=10)"
      ],
      "metadata": {
        "colab": {
          "base_uri": "https://localhost:8080/"
        },
        "id": "rkOaygEdNGUd",
        "outputId": "fd5ca4b3-34af-4009-9167-62adfdd63ec7"
      },
      "execution_count": 53,
      "outputs": [
        {
          "output_type": "stream",
          "name": "stdout",
          "text": [
            "Epoch 1/10\n",
            "16363/16363 [==============================] - 29s 2ms/step - loss: 0.6763 - accuracy: 0.5850\n",
            "Epoch 2/10\n",
            "16363/16363 [==============================] - 30s 2ms/step - loss: 0.6751 - accuracy: 0.5853\n",
            "Epoch 3/10\n",
            "16363/16363 [==============================] - 28s 2ms/step - loss: 0.6749 - accuracy: 0.5862\n",
            "Epoch 4/10\n",
            "16363/16363 [==============================] - 29s 2ms/step - loss: 0.6748 - accuracy: 0.5861\n",
            "Epoch 5/10\n",
            "16363/16363 [==============================] - 32s 2ms/step - loss: 0.6747 - accuracy: 0.5859\n",
            "Epoch 6/10\n",
            "16363/16363 [==============================] - 28s 2ms/step - loss: 0.6746 - accuracy: 0.5857\n",
            "Epoch 7/10\n",
            "16363/16363 [==============================] - 28s 2ms/step - loss: 0.6746 - accuracy: 0.5858\n",
            "Epoch 8/10\n",
            "16363/16363 [==============================] - 28s 2ms/step - loss: 0.6746 - accuracy: 0.5867\n",
            "Epoch 9/10\n",
            "16363/16363 [==============================] - 27s 2ms/step - loss: 0.6746 - accuracy: 0.5862\n",
            "Epoch 10/10\n",
            "16363/16363 [==============================] - 27s 2ms/step - loss: 0.6746 - accuracy: 0.5862\n"
          ]
        }
      ]
    },
    {
      "cell_type": "code",
      "source": [
        "# Evaluate the model using the test data\n",
        "model_loss, model_accuracy = nn.evaluate(X_test,y_test,verbose=2)\n",
        "print(f\"Loss: {model_loss}, Accuracy: {model_accuracy}\")"
      ],
      "metadata": {
        "colab": {
          "base_uri": "https://localhost:8080/"
        },
        "id": "B_5WDV4BOicQ",
        "outputId": "b06bf415-7cbb-4bac-ee2a-c3f23080ad9b"
      },
      "execution_count": 54,
      "outputs": [
        {
          "output_type": "stream",
          "name": "stdout",
          "text": [
            "5455/5455 - 10s - loss: 0.6743 - accuracy: 0.5855 - 10s/epoch - 2ms/step\n",
            "Loss: 0.6743292212486267, Accuracy: 0.5855215191841125\n"
          ]
        }
      ]
    },
    {
      "cell_type": "code",
      "source": [
        "# Testing out N90days\n",
        "# Split the preprocessed data into a training and testing dataset\n",
        "X_train, X_test, y_train, y_test = train_test_split(X, y_3)"
      ],
      "metadata": {
        "id": "tEubP7eHO7PS"
      },
      "execution_count": 59,
      "outputs": []
    },
    {
      "cell_type": "code",
      "source": [
        "# All data should already be scaled due to sentiment generated value thresholds\n",
        "# Define the model - deep neural net, i.e., the number of input features and hidden nodes for each layer.\n",
        "number_input_features = len(list(X_train.head(n=1)))\n",
        "hidden_nodes_layer1 = 5\n",
        "#hidden_nodes_layer2 = 3\n",
        "\n",
        "nn = tf.keras.models.Sequential()\n",
        "\n",
        "# First hidden layer\n",
        "nn.add(\n",
        "    tf.keras.layers.Dense(units=hidden_nodes_layer1, input_dim=number_input_features, activation=\"relu\")\n",
        ")\n",
        "\n",
        "# Second hidden layer\n",
        "#nn.add(tf.keras.layers.Dense(units=hidden_nodes_layer2, activation=\"relu\"))\n",
        "\n",
        "# Output layer\n",
        "nn.add(tf.keras.layers.Dense(units=1, activation=\"sigmoid\"))\n",
        "\n",
        "# Check the structure of the model\n",
        "nn.summary()"
      ],
      "metadata": {
        "colab": {
          "base_uri": "https://localhost:8080/"
        },
        "id": "H8mZ0yD5PCTQ",
        "outputId": "23eb171f-2210-4c2e-98a8-8645eca20ece"
      },
      "execution_count": 60,
      "outputs": [
        {
          "output_type": "stream",
          "name": "stdout",
          "text": [
            "Model: \"sequential_9\"\n",
            "_________________________________________________________________\n",
            " Layer (type)                Output Shape              Param #   \n",
            "=================================================================\n",
            " dense_21 (Dense)            (None, 5)                 55        \n",
            "                                                                 \n",
            " dense_22 (Dense)            (None, 1)                 6         \n",
            "                                                                 \n",
            "=================================================================\n",
            "Total params: 61\n",
            "Trainable params: 61\n",
            "Non-trainable params: 0\n",
            "_________________________________________________________________\n"
          ]
        }
      ]
    },
    {
      "cell_type": "code",
      "source": [
        "# Compile the model\n",
        "nn.compile(loss=\"binary_crossentropy\", optimizer=\"adam\", metrics=[\"accuracy\"])"
      ],
      "metadata": {
        "id": "0rKp-2ZBPFsW"
      },
      "execution_count": 61,
      "outputs": []
    },
    {
      "cell_type": "code",
      "source": [
        "# Train the model\n",
        "fit_model = nn.fit(X_train,\n",
        "                   y_train,\n",
        "                   epochs=10)"
      ],
      "metadata": {
        "colab": {
          "base_uri": "https://localhost:8080/"
        },
        "id": "s7qLE99hPIal",
        "outputId": "0a7bb299-d03c-4029-be1c-81dbfae426ce"
      },
      "execution_count": 62,
      "outputs": [
        {
          "output_type": "stream",
          "name": "stdout",
          "text": [
            "Epoch 1/10\n",
            "16363/16363 [==============================] - 28s 2ms/step - loss: 0.6513 - accuracy: 0.6426\n",
            "Epoch 2/10\n",
            "16363/16363 [==============================] - 27s 2ms/step - loss: 0.6502 - accuracy: 0.6437\n",
            "Epoch 3/10\n",
            "16363/16363 [==============================] - 27s 2ms/step - loss: 0.6501 - accuracy: 0.6437\n",
            "Epoch 4/10\n",
            "16363/16363 [==============================] - 28s 2ms/step - loss: 0.6501 - accuracy: 0.6437\n",
            "Epoch 5/10\n",
            "16363/16363 [==============================] - 29s 2ms/step - loss: 0.6501 - accuracy: 0.6437\n",
            "Epoch 6/10\n",
            "16363/16363 [==============================] - 28s 2ms/step - loss: 0.6500 - accuracy: 0.6437\n",
            "Epoch 7/10\n",
            "16363/16363 [==============================] - 28s 2ms/step - loss: 0.6500 - accuracy: 0.6437\n",
            "Epoch 8/10\n",
            "16363/16363 [==============================] - 28s 2ms/step - loss: 0.6500 - accuracy: 0.6437\n",
            "Epoch 9/10\n",
            "16363/16363 [==============================] - 28s 2ms/step - loss: 0.6500 - accuracy: 0.6437\n",
            "Epoch 10/10\n",
            "16363/16363 [==============================] - 28s 2ms/step - loss: 0.6500 - accuracy: 0.6437\n"
          ]
        }
      ]
    },
    {
      "cell_type": "code",
      "source": [
        "X.columns"
      ],
      "metadata": {
        "colab": {
          "base_uri": "https://localhost:8080/"
        },
        "id": "FnhN593zTG-o",
        "outputId": "70971ff4-d91b-435e-e204-17af46a01700"
      },
      "execution_count": 63,
      "outputs": [
        {
          "output_type": "execute_result",
          "data": {
            "text/plain": [
              "Index(['overall_sent_comp', 'overall_sent_pos', 'overall_sent_neg',\n",
              "       'mean_t_comp_score', 'mean_t_pos_score', 'mean_t_neg_score',\n",
              "       'mean_tgt_comp_score', 'mean_tgt_pos_score', 'mean_tgt_neg_score',\n",
              "       'mean_custom_score'],\n",
              "      dtype='object')"
            ]
          },
          "metadata": {},
          "execution_count": 63
        }
      ]
    },
    {
      "cell_type": "code",
      "source": [
        "# testing smaller set of sentiment columns\n",
        "X = X[['overall_sent_comp', 'mean_t_comp_score', 'mean_tgt_comp_score', 'mean_custom_score']]"
      ],
      "metadata": {
        "id": "sxkKONgwTIXk"
      },
      "execution_count": 65,
      "outputs": []
    },
    {
      "cell_type": "code",
      "source": [
        "# Testing out N90days\n",
        "# Split the preprocessed data into a training and testing dataset\n",
        "X_train, X_test, y_train, y_test = train_test_split(X, y_3)"
      ],
      "metadata": {
        "id": "O4XQYCABTT_M"
      },
      "execution_count": 66,
      "outputs": []
    },
    {
      "cell_type": "code",
      "source": [
        "# All data should already be scaled due to sentiment generated value thresholds\n",
        "# Define the model - deep neural net, i.e., the number of input features and hidden nodes for each layer.\n",
        "number_input_features = len(list(X_train.head(n=1)))\n",
        "hidden_nodes_layer1 = 3\n",
        "#hidden_nodes_layer2 = 3\n",
        "\n",
        "nn = tf.keras.models.Sequential()\n",
        "\n",
        "# First hidden layer\n",
        "nn.add(\n",
        "    tf.keras.layers.Dense(units=hidden_nodes_layer1, input_dim=number_input_features, activation=\"relu\")\n",
        ")\n",
        "\n",
        "# Second hidden layer\n",
        "#nn.add(tf.keras.layers.Dense(units=hidden_nodes_layer2, activation=\"relu\"))\n",
        "\n",
        "# Output layer\n",
        "nn.add(tf.keras.layers.Dense(units=1, activation=\"sigmoid\"))\n",
        "\n",
        "# Check the structure of the model\n",
        "nn.summary()"
      ],
      "metadata": {
        "colab": {
          "base_uri": "https://localhost:8080/"
        },
        "id": "Jw0_KG35T1Pl",
        "outputId": "7e99b031-6b49-4663-9635-63dcd4f06644"
      },
      "execution_count": 67,
      "outputs": [
        {
          "output_type": "stream",
          "name": "stdout",
          "text": [
            "Model: \"sequential_10\"\n",
            "_________________________________________________________________\n",
            " Layer (type)                Output Shape              Param #   \n",
            "=================================================================\n",
            " dense_23 (Dense)            (None, 3)                 15        \n",
            "                                                                 \n",
            " dense_24 (Dense)            (None, 1)                 4         \n",
            "                                                                 \n",
            "=================================================================\n",
            "Total params: 19\n",
            "Trainable params: 19\n",
            "Non-trainable params: 0\n",
            "_________________________________________________________________\n"
          ]
        }
      ]
    },
    {
      "cell_type": "code",
      "source": [
        "# Compile the model\n",
        "nn.compile(loss=\"binary_crossentropy\", optimizer=\"adam\", metrics=[\"accuracy\"])"
      ],
      "metadata": {
        "id": "QXwD8oWIUEo8"
      },
      "execution_count": 68,
      "outputs": []
    },
    {
      "cell_type": "code",
      "source": [
        "# Train the model\n",
        "fit_model = nn.fit(X_train,\n",
        "                   y_train,\n",
        "                   epochs=10)"
      ],
      "metadata": {
        "colab": {
          "base_uri": "https://localhost:8080/"
        },
        "id": "oepV5UZ2UHok",
        "outputId": "270f0a13-f316-4ae3-f1b0-46f288794ba9"
      },
      "execution_count": 69,
      "outputs": [
        {
          "output_type": "stream",
          "name": "stdout",
          "text": [
            "Epoch 1/10\n",
            "16363/16363 [==============================] - 31s 2ms/step - loss: 0.6512 - accuracy: 0.6443\n",
            "Epoch 2/10\n",
            "16363/16363 [==============================] - 27s 2ms/step - loss: 0.6502 - accuracy: 0.6443\n",
            "Epoch 3/10\n",
            "16363/16363 [==============================] - 28s 2ms/step - loss: 0.6502 - accuracy: 0.6443\n",
            "Epoch 4/10\n",
            "16363/16363 [==============================] - 29s 2ms/step - loss: 0.6502 - accuracy: 0.6443\n",
            "Epoch 5/10\n",
            "16363/16363 [==============================] - 27s 2ms/step - loss: 0.6502 - accuracy: 0.6443\n",
            "Epoch 6/10\n",
            "16363/16363 [==============================] - 27s 2ms/step - loss: 0.6501 - accuracy: 0.6443\n",
            "Epoch 7/10\n",
            "16363/16363 [==============================] - 28s 2ms/step - loss: 0.6501 - accuracy: 0.6443\n",
            "Epoch 8/10\n",
            "16363/16363 [==============================] - 27s 2ms/step - loss: 0.6501 - accuracy: 0.6443\n",
            "Epoch 9/10\n",
            "16363/16363 [==============================] - 27s 2ms/step - loss: 0.6501 - accuracy: 0.6443\n",
            "Epoch 10/10\n",
            "16363/16363 [==============================] - 27s 2ms/step - loss: 0.6501 - accuracy: 0.6443\n"
          ]
        }
      ]
    },
    {
      "cell_type": "code",
      "source": [
        "# Evaluate the model using the test data\n",
        "model_loss, model_accuracy = nn.evaluate(X_test,y_test,verbose=2)\n",
        "print(f\"Loss: {model_loss}, Accuracy: {model_accuracy}\")"
      ],
      "metadata": {
        "colab": {
          "base_uri": "https://localhost:8080/"
        },
        "id": "Og7FkRW4VcyC",
        "outputId": "8d77c957-091a-41ec-f0cb-d69f602511d0"
      },
      "execution_count": 70,
      "outputs": [
        {
          "output_type": "stream",
          "name": "stdout",
          "text": [
            "5455/5455 - 7s - loss: 0.6510 - accuracy: 0.6425 - 7s/epoch - 1ms/step\n",
            "Loss: 0.6510362029075623, Accuracy: 0.6424556970596313\n"
          ]
        }
      ]
    }
  ]
}