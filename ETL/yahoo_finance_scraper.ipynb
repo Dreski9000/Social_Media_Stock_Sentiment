{
 "cells": [
  {
   "cell_type": "code",
   "execution_count": 1,
   "id": "c7ae1850",
   "metadata": {},
   "outputs": [],
   "source": [
    "#import dependencies\n",
    "import yfinance as yf\n",
    "from config import db_password\n",
    "from config import db_address\n",
    "from sqlalchemy import create_engine\n"
   ]
  },
  {
   "cell_type": "code",
   "execution_count": 2,
   "id": "b1db8348",
   "metadata": {},
   "outputs": [],
   "source": [
    "#create function to scrape and format stock history\n",
    "def stock_history_scraper(ticker):       #inputs are ticker symbol\n",
    "    history = yf.Ticker(ticker).history(start=\"2018-01-01\",end=\"2021-12-31\") #gets history since start of wallstreetbets\n",
    "    try:\n",
    "        history = history.drop(columns=[\"Dividends\",\"Stock Splits\"]) #removes not used columns\n",
    "    except:\n",
    "        print('somthing')\n",
    "    history[\"Ticker\"]=ticker #adds ticker symbol\n",
    "    return history"
   ]
  },
  {
   "cell_type": "code",
   "execution_count": 6,
   "id": "c1910c1e",
   "metadata": {},
   "outputs": [],
   "source": [
    "#create engine to connect AWS server\n",
    "db_string = f\"postgresql://postgres:{db_password}@{db_address}:5432/Stockdata\"\n",
    "engine = create_engine(db_string)"
   ]
  },
  {
   "cell_type": "code",
   "execution_count": 4,
   "id": "b3d17e5a",
   "metadata": {},
   "outputs": [],
   "source": [
    "#list of tickers\n",
    "tickers=['GME', 'TSLA', 'AAPL', 'TWTR', 'ATER', 'AMC','AMD', \n",
    "         'MSFT', 'HD', 'FB', 'AMZN', 'NU', 'DTE', 'GOOG',\n",
    "         'NFLX', 'SOFI', 'TA', 'BBIG', 'NVDA', 'AI', 'ZIM','VTNR',\n",
    "         'PLTR', 'RIVN', 'LUNA', 'TTWO', 'OXY', 'BABA',  'WMT',\n",
    "         'DWAC', 'CC', 'COO', 'LFG', 'RBLX', 'DIS', 'SE', 'SNDL', 'PARA',\n",
    "         'SP', 'XOM', 'ES', 'JD', 'PTON', 'WBD', 'TGT', 'OG',\n",
    "         'DM', 'DOW', 'TLRY', 'NIO', 'PANW', 'CVNA', 'JPM', 'IP', 'TD', 'GS', \n",
    "         'CLOV', 'PYPL', 'GM', 'IQ','MCD', 'MULN', 'DE', 'VZ', 'WW', \n",
    "         'EA', 'BB', 'CRSR', 'TG', 'WEBR', 'ABNB', 'OI', 'CHGG', 'INTC', 'HP', \n",
    "         'SQ', 'ROKU', 'PT', 'VXX', 'BYND', 'JBLU', 'GBTC',\n",
    "         'MS', 'DKNG', 'FCF', 'GE', 'BJ', 'LCID',  'CS', 'KO',\n",
    "         'WTI', 'RIG', 'RC', 'BA', 'MMAT', 'RKLB', 'UNH', 'RE', \n",
    "         'CSCO', 'VC', 'ZM', 'TIL', 'IBKR', 'CRM', 'IBM', 'ET', 'CP',\n",
    "         'MSTR', 'DAC', 'DTC', 'NYT', 'TH', 'BP', 'LMT', 'SM', \n",
    "         'ITT', 'BBBY', 'TTD', 'PBR', 'SPCE', 'UPST', 'AFRM', 'NG']"
   ]
  },
  {
   "cell_type": "code",
   "execution_count": 9,
   "id": "b0d70a09",
   "metadata": {},
   "outputs": [],
   "source": [
    "for ticker in tickers:\n",
    "    #pulls data\n",
    "    csv=stock_history_scraper(ticker)\n",
    "    #uploads data to AWS\n",
    "    csv.to_sql(name='stock_history', con=engine, if_exists='append')"
   ]
  },
  {
   "cell_type": "code",
   "execution_count": null,
   "id": "3ee068e9",
   "metadata": {},
   "outputs": [],
   "source": []
  }
 ],
 "metadata": {
  "kernelspec": {
   "display_name": "PythonData",
   "language": "python",
   "name": "pythondata"
  },
  "language_info": {
   "codemirror_mode": {
    "name": "ipython",
    "version": 3
   },
   "file_extension": ".py",
   "mimetype": "text/x-python",
   "name": "python",
   "nbconvert_exporter": "python",
   "pygments_lexer": "ipython3",
   "version": "3.7.11"
  }
 },
 "nbformat": 4,
 "nbformat_minor": 5
}
