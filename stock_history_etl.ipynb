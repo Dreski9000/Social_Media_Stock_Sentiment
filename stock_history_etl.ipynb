{
 "cells": [
  {
   "cell_type": "code",
   "execution_count": 1,
   "id": "04f0d663",
   "metadata": {},
   "outputs": [],
   "source": [
    "# import dependencies \n",
    "import pandas as pd \n",
    "import random\n",
    "import datetime\n",
    "import re"
   ]
  },
  {
   "cell_type": "markdown",
   "id": "8e07987b",
   "metadata": {},
   "source": [
    "### IMPORTANT: Manually enter database passwords"
   ]
  },
  {
   "cell_type": "code",
   "execution_count": 2,
   "id": "1d12f976",
   "metadata": {},
   "outputs": [],
   "source": [
    "# sqlalchemy config\n",
    "from sqlalchemy import create_engine\n",
    "host_1= 'stock-sentiment.cx2wqgu4uxsm.us-east-1.rds.amazonaws.com'\n",
    "port_1=int(5432)\n",
    "user_1=\"postgres\"\n",
    "passw_1=\"\"\n",
    "database_1=\"Stockdata\""
   ]
  },
  {
   "cell_type": "code",
   "execution_count": 3,
   "id": "e031618a",
   "metadata": {},
   "outputs": [],
   "source": [
    "db_string_1 = f\"postgresql://{user_1}:{passw_1}@{host_1}:{port_1}/{database_1}\"\n",
    "engine_1 = create_engine(db_string_1, pool_recycle=3600)\n",
    "#print(db_string_1)"
   ]
  },
  {
   "cell_type": "code",
   "execution_count": 4,
   "id": "968c494d",
   "metadata": {},
   "outputs": [],
   "source": [
    "# Enter Personal database details\n",
    "host_2 = '127.0.0.1'\n",
    "port_2 = 5432\n",
    "user_2 = 'postgres'\n",
    "passw_2 = \"\"\n",
    "database_2 = \"\""
   ]
  },
  {
   "cell_type": "code",
   "execution_count": 5,
   "id": "72633079",
   "metadata": {},
   "outputs": [],
   "source": [
    "db_string_2 = f\"postgresql://{user_2}:{passw_2}@{host_2}:{port_2}/{database_2}\"\n",
    "engine_2 = create_engine(db_string_2)\n",
    "#print(db_string_2)"
   ]
  },
  {
   "cell_type": "code",
   "execution_count": 6,
   "id": "4f79a387",
   "metadata": {},
   "outputs": [],
   "source": [
    "#output_df.to_sql(name='comments', con=engine, if_exists='replace')"
   ]
  },
  {
   "cell_type": "code",
   "execution_count": 7,
   "id": "48413e55",
   "metadata": {},
   "outputs": [
    {
     "name": "stdout",
     "output_type": "stream",
     "text": [
      "importing rows 0 to 10000...\n",
      "importing rows 10000 to 20000...\n",
      "importing rows 20000 to 30000...\n",
      "importing rows 30000 to 40000...\n",
      "importing rows 40000 to 50000...\n",
      "importing rows 50000 to 60000...\n",
      "importing rows 60000 to 70000...\n",
      "importing rows 70000 to 80000...\n",
      "importing rows 80000 to 90000...\n",
      "importing rows 90000 to 100000...\n",
      "importing rows 100000 to 104237...\n",
      "Done. 9.764262914657593 total seconds elapsed\n"
     ]
    }
   ],
   "source": [
    "import psycopg2\n",
    "import time\n",
    "\n",
    "# Connect to PostgreSQL Server\n",
    "dbConnection = engine_1.connect()\n",
    "\n",
    "# Read data from PostgreSQL and load into a DataFrame instance\n",
    "\n",
    "# tracking number of imported rows\n",
    "rows_imported = 0\n",
    "#row_ids = 1000000\n",
    "start_time = time.time()\n",
    "for data in pd.read_sql(\"select * from \\\"stock_history\\\"\", dbConnection, chunksize = 10000):\n",
    "    \n",
    "\n",
    "    print(f'importing rows {rows_imported} to {rows_imported + len(data)}...\\n', end='')\n",
    "    #ids_array = list(range(row_ids, (row_ids + len(data))))\n",
    "    #data.insert(0, 'comment_id', ids_array)\n",
    "    data = data.round(2)\n",
    "    data = data[['Ticker', 'Date', 'Volume', 'Open', 'Close', 'High', 'Low']]\n",
    "    data.to_sql(name='stock_prices', con=engine_2, if_exists='append', index=False)\n",
    "    rows_imported += len(data)\n",
    "print(f'Done. {time.time() - start_time} total seconds elapsed')\n"
   ]
  },
  {
   "cell_type": "code",
   "execution_count": null,
   "id": "fedb27f3",
   "metadata": {},
   "outputs": [],
   "source": []
  }
 ],
 "metadata": {
  "kernelspec": {
   "display_name": "PythonData",
   "language": "python",
   "name": "pythondata"
  },
  "language_info": {
   "codemirror_mode": {
    "name": "ipython",
    "version": 3
   },
   "file_extension": ".py",
   "mimetype": "text/x-python",
   "name": "python",
   "nbconvert_exporter": "python",
   "pygments_lexer": "ipython3",
   "version": "3.9.7"
  }
 },
 "nbformat": 4,
 "nbformat_minor": 5
}
