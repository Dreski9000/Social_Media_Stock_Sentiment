{
 "cells": [
  {
   "cell_type": "code",
   "execution_count": 1,
   "id": "0e2c4f98",
   "metadata": {},
   "outputs": [],
   "source": [
    "import pandas as pd\n",
    "import re\n",
    "import os\n",
    "from config import db_password\n",
    "from config import db_address\n",
    "from sqlalchemy import create_engine"
   ]
  },
  {
   "cell_type": "markdown",
   "id": "0b8164c1",
   "metadata": {},
   "source": [
    "## CSV Consildation"
   ]
  },
  {
   "cell_type": "code",
   "execution_count": 16,
   "id": "bb645724",
   "metadata": {},
   "outputs": [],
   "source": [
    "#list of tickers\n",
    "tickers_done=['TSLA', 'AAPL', 'TWTR', 'ATER', 'AMC','AMD', \n",
    "         'MSFT', 'HD', 'FB', 'AMZN', 'NU', 'DTE', 'GOOG',\n",
    "         'NFLX', 'SOFI', 'TA', 'BBIG', 'NVDA', 'AI', 'ZIM','VTNR',\n",
    "         'PLTR', 'RIVN', 'LUNA', 'TTWO', 'OXY', 'BABA',  'WMT',\n",
    "         'DWAC', 'CC', 'COO', 'LFG', 'RBLX', 'DIS', 'SE', 'SNDL', 'PARA',\n",
    "         'SP', 'XOM', 'ES', 'JD', 'PTON', 'WBD', 'TGT', 'OG',\n",
    "         'DM', 'DOW', 'TLRY', 'NIO', 'PANW', 'CVNA', 'JPM', 'IP', 'TD', 'GS', \n",
    "         'CLOV', 'PYPL', 'GM', 'IQ','MCD', 'MULN', 'DE', 'VZ', 'WW', \n",
    "         'EA', 'BB', 'CRSR', 'TG', 'WEBR', 'ABNB', 'OI', 'CHGG', 'INTC', 'HP', \n",
    "         'SQ', 'ROKU', 'PT', 'VXX', 'BYND', 'JBLU', 'GBTC',\n",
    "         'MS', 'DKNG', 'FCF', 'GE', 'BJ', 'LCID',  'CS', 'KO',\n",
    "         'WTI', 'RIG', 'RC', 'BA', 'MMAT', 'RKLB', 'UNH', 'RE', \n",
    "         'CSCO', 'VC', 'ZM', 'TIL', 'IBKR', 'CRM', 'IBM', 'ET', 'CP',\n",
    "         'MSTR', 'DAC', 'DTC', 'NYT', 'TH', 'BP', 'LMT', 'SM', \n",
    "         'ITT', 'BBBY', 'TTD', 'PBR', 'SPCE', 'UPST', 'AFRM', 'NG']"
   ]
  },
  {
   "cell_type": "code",
   "execution_count": 3,
   "id": "d0a1d9c4",
   "metadata": {},
   "outputs": [],
   "source": [
    "years = [2021,2020,2019,2018]\n",
    "months=[1,2,3,4,5,6,7,8,9,10,11,12]\n",
    "csv = pd.DataFrame({'date':[],'body':[],'username':[],'subreddit':[]})\n"
   ]
  },
  {
   "cell_type": "code",
   "execution_count": 6,
   "id": "4113eed4",
   "metadata": {},
   "outputs": [],
   "source": [
    "#consolidates csv from single day to a single year based on ticker\n",
    "for ticker in tickers_done:\n",
    "    for year in years:\n",
    "        for month in months:\n",
    "            for day in range(1,32):\n",
    "                file_path='csv/'+ticker+'_'+str(year)+'_'+str(month)+'_'+str(day)+'.csv'\n",
    "                try:\n",
    "                    df = pd.read_csv(file_path)\n",
    "                    #removes empty csvs\n",
    "                    if df.empty:\n",
    "                        os.remove(file_path)\n",
    "                    else:\n",
    "                        csv= pd.concat([csv,df])\n",
    "                except:\n",
    "                    continue\n",
    "        if csv.empty != True:\n",
    "            csv.to_csv('test/'+str(ticker)+'_'+str(year)+\".csv\",index=False)\n",
    "            csv = pd.DataFrame({'date':[],'body':[],'username':[],'subreddit':[]})"
   ]
  },
  {
   "cell_type": "markdown",
   "id": "3a1b8c11",
   "metadata": {},
   "source": [
    "## CSV Upload"
   ]
  },
  {
   "cell_type": "code",
   "execution_count": 2,
   "id": "5301ae0e",
   "metadata": {},
   "outputs": [],
   "source": [
    "#creates engine to connect to AWS server\n",
    "db_string = f\"postgresql://postgres:{db_password}@{db_address}:5432/Stockdata\"\n",
    "engine = create_engine(db_string)"
   ]
  },
  {
   "cell_type": "code",
   "execution_count": 17,
   "id": "d6d51a0a",
   "metadata": {},
   "outputs": [
    {
     "name": "stdout",
     "output_type": "stream",
     "text": [
      "TSLA_2021 (psycopg2.OperationalError) SSL error: sslv3 alert bad record mac\n",
      "\n",
      "[SQL: INSERT INTO comments_posts (date, body, username, subreddit) VALUES (%(date)s, %(body)s, %(username)s, %(subreddit)s)]\n",
      "[parameters: ({'date': '2021-01-02', 'body': 'TSLA,\\nPLTR,\\nGME,\\nNIO,\\nAPPL,\\nRKT,\\nPRPL,\\nMT,\\nBB,\\n\\nThe most recent gangs ranked from highest conviction to lowest.', 'username': 'donefukupped', 'subreddit': 'wallstreetbets'}, {'date': '2021-01-02', 'body': 'Oh absolutely! I have no doubt NIO will rise much, much higher over time. I’m just wondering if it’s gonna make a small jump for NIO day because that ... (25 characters truncated) ... m. I have leap calls for BABA. Currently I’m playing 1-2 month calls on TSLA and NIO with recent news that’s coming out soon. My fingers are crossed!', 'username': 'Ill_Ad3484', 'subreddit': 'wallstreetbets'}, {'date': '2021-01-02', 'body': \"I wouldn't short TSLA but at its current price, I wouldn't buy it either.\", 'username': 'webulltrade', 'subreddit': 'wallstreetbets'}, {'date': '2021-01-02', 'body': 'Imagine how many dipshits are out there ruining their marriages &amp; risking the loss of their homes still shorting TSLA', 'username': 'CappedCrib', 'subreddit': 'wallstreetbets'}, {'date': '2021-01-02', 'body': 'Who else holding TSLA and NIO calls?\\n\\nGimme your TSLA delivery predictions as well as NIO day predictions.\\n\\nAnd smash that upvote if you’re boarded and ready to go to the moon with me! 🚀 🚀 🚀', 'username': 'Ill_Ad3484', 'subreddit': 'wallstreetbets'}, {'date': '2021-01-02', 'body': \"When you buy a new Ferrari prepait maint for 7yrs is included, and transfers to the next owner. That's usually $2-5k/yr. Feel like they're creeping on high end TSLA again now.\", 'username': 'trumpdiego', 'subreddit': 'wallstreetbets'}, {'date': '2021-01-02', 'body': \"Here's the problem: I want to buy PLTR and hold for a long ass time. This is a thinking about getting in TSLA at IPO. But I need to buy in with numbe ... (63 characters truncated) ... o get a bigger stake in equity. \\n\\nThis is the same argument I used on my wife and it did not work, but I feel like this has better odds at success.\", 'username': '1gnik', 'subreddit': 'wallstreetbets'}, {'date': '2021-01-02', 'body': \"So according to several news sources, retail returns beat hedge funds and private equity in 2020. \\n\\nWell who didn't see that coming? WSB has more a ... (228 characters truncated) ... n\\nDefinitely finna beat them again in 2021.\\n\\nCalls on WSB.\\n\\nHNY WSB and good luck to all in 2021. \\n\\n(Feel free to add any of the DDs I missed)\", 'username': 'Mondrayish', 'subreddit': 'wallstreetbets'}  ... displaying 10 of 131309 total bound parameter sets ...  {'date': '2021-12-30', 'body': 'My spidey senses say TSLA face ripping, fuck the bears rally is imminent', 'username': 'curiousprovisions', 'subreddit': 'wallstreetbets'}, {'date': '2021-12-30', 'body': \"i need TSLA at 1150 and i'll be good. COME ON TSLA!\", 'username': 'yuukiasunamvp', 'subreddit': 'wallstreetbets'})]\n",
      "(Background on this error at: https://sqlalche.me/e/14/e3q8)\n",
      "TSLA_2020 (psycopg2.OperationalError) SSL error: sslv3 alert bad record mac\n",
      "\n",
      "[SQL: INSERT INTO comments_posts (date, body, username, subreddit) VALUES (%(date)s, %(body)s, %(username)s, %(subreddit)s)]\n",
      "[parameters: ({'date': '2020-01-02', 'body': 'Where we think tsla is going?', 'username': 'Scarcedflame', 'subreddit': 'wallstreetbets'}, {'date': '2020-01-02', 'body': 'should probably hedge those with TSLA calls', 'username': 'Muntberg', 'subreddit': 'wallstreetbets'}, {'date': '2020-01-02', 'body': 'yep and i have limit buys worth 10k for TSLA and AAPL for the usual drops in the AM', 'username': 'chodmode2', 'subreddit': 'wallstreetbets'}, {'date': '2020-01-02', 'body': 'SPCE Jan 2021 calls. This will become a cult stock and despite all fundamentals you never short a cult stock. Exhibit A: TSLA', 'username': 'Irrelevant_Scientist', 'subreddit': 'wallstreetbets'}, {'date': '2020-01-02', 'body': 'AAPL/TSLA calls!', 'username': 'marketgodfather', 'subreddit': 'wallstreetbets'}, {'date': '2020-01-02', 'body': 'SPY calls\\nTSLA calls\\nAMZN calls\\nAAPL calls\\nMSFT calls\\nDIS calls\\n\\nThe market only goes up.', 'username': 'aliph', 'subreddit': 'wallstreetbets'}, {'date': '2020-01-01', 'body': 'TSLA 420 calls expiring 4/24/20', 'username': 'PalsgrafBlows', 'subreddit': 'wallstreetbets'}, {'date': '2020-01-01', 'body': 'Have a flight tomorrow morning from 8:30-10 and I have TSLA put credit spreads open fucking hoping Elon doesn’t fuck me in the 30 minutes I can’t watch the market but I know he probably will', 'username': 'noLdubonly', 'subreddit': 'wallstreetbets'}  ... displaying 10 of 248245 total bound parameter sets ...  {'date': '2020-12-30', 'body': 'I sold my 1/15 TSLA 800 and 12/31 SPY 377 calls last Thursday and bought some 12/31 BABA 230 calls, for once in my life I might’ve done something right. How do I say sorry Elon in Chinese.', 'username': 'q112', 'subreddit': 'wallstreetbets'}, {'date': '2020-12-30', 'body': '\"is TSLA a buy?\"\\n\\n\"69x Potential\"', 'username': 'Billionairess', 'subreddit': 'wallstreetbets'})]\n",
      "(Background on this error at: https://sqlalche.me/e/14/e3q8)\n",
      "AMC_2021 (psycopg2.OperationalError) SSL error: sslv3 alert bad record mac\n",
      "\n",
      "[SQL: INSERT INTO comments_posts (date, body, username, subreddit) VALUES (%(date)s, %(body)s, %(username)s, %(subreddit)s)]\n",
      "[parameters: ({'date': '2021-01-02', 'body': 'The closer you get to when Jeep was owned by amc the better the product, the cj is one of the better jeeps made. Except for the j8 but here in America we aren’t allowed to have any fun.', 'username': 'Sirjackwagon', 'subreddit': 'wallstreetbets'}, {'date': '2021-01-02', 'body': 'What yall yoloing your stimulus on i might try my luck reviving the dead on amc', 'username': 'abkire', 'subreddit': 'wallstreetbets'}, {'date': '2021-01-01', 'body': 'Logic.\\n\\nIf you’re the CEO of Disney why buy AMC? Wait for it to go bankrupt and pick up the pieces you want for cheap in the liquidation.', 'username': 'ChicagoSouthSuburbs1', 'subreddit': 'wallstreetbets'}, {'date': '2021-01-01', 'body': 'AMC?', 'username': 'webulltrade', 'subreddit': 'wallstreetbets'}, {'date': '2021-01-01', 'body': 'Mofo this is the most high brow comment that’ll get dismissed. \\n\\nParamount Pictures, Inc., 334 U.S. 131 (1948) (also known as the Hollywood Antitrust Case of 1948\\n\\nYes. There is no way Disney can or will buy amc', 'username': 'Hank-TheSpank-Hill', 'subreddit': 'wallstreetbets'}, {'date': '2021-01-01', 'body': 'AMC will be 0 EOY', 'username': 'noClip2', 'subreddit': 'wallstreetbets'}, {'date': '2021-01-01', 'body': 'Lol AMC', 'username': 'OptionsAndTren', 'subreddit': 'wallstreetbets'}, {'date': '2021-01-01', 'body': ' Happy New Years  phaggots\\n\\nHere are the wishes.\\n\\nPLTR to 35 2021 EOY\\n\\nAMC to 10 2021 EOY\\n\\nBABA to 270 2021 EOY', 'username': 'hmkr', 'subreddit': 'wallstreetbets'}  ... displaying 10 of 293587 total bound parameter sets ...  {'date': '2021-12-30', 'body': 'For all UK investors, Cineworld is being lined up by short term sellers, similar to GME &amp; AMC last year (around 14%) …. get over there!', 'username': 'Dazzee9080', 'subreddit': 'wallstreetbets'}, {'date': '2021-12-30', 'body': 'The top holding is amc idk about that', 'username': 'angryirishman', 'subreddit': 'wallstreetbets'})]\n",
      "(Background on this error at: https://sqlalche.me/e/14/e3q8)\n",
      "AMD_2021 (psycopg2.OperationalError) SSL error: sslv3 alert bad record mac\n",
      "\n",
      "[SQL: INSERT INTO comments_posts (date, body, username, subreddit) VALUES (%(date)s, %(body)s, %(username)s, %(subreddit)s)]\n",
      "[parameters: ({'date': '2021-01-02', 'body': 'Thank you I’m trying to be out for this trading year not back behind bars even tho I made 35 the year I was locked up (2019) lost all my profits in March and got all that shit back and then some 😏 amd Apple and Tesla were the moves this year', 'username': 'SkykarJones', 'subreddit': 'wallstreetbets'}, {'date': '2021-01-02', 'body': 'I’m going to get the date Sue Bae became CEO tattooed on my forearm on when AMD hits $100', 'username': 'internet_emporium', 'subreddit': 'wallstreetbets'}, {'date': '2021-01-02', 'body': 'It has the highest P/S between INTC AMD and NVDA. probably the most overvalued', 'username': 'GustavGuiermo', 'subreddit': 'wallstreetbets'}, {'date': '2021-01-02', 'body': 'AMD is a better buy at this point', 'username': 'bdeq-', 'subreddit': 'wallstreetbets'}, {'date': '2021-01-02', 'body': 'In all seriousness. I have a MBP 2017 with Touch Bar. It’s hooked up to a Caldigit TS3 Plus and my monitor is a 4K QHD Samsung with AMD Freesync I’ll be getting another monitor soon. However I trade on my iPhone lol', 'username': 'GreenFuturesMatter', 'subreddit': 'wallstreetbets'}, {'date': '2021-01-01', 'body': \"Lol I'm guess I'm one of the few people who was -90% this year (20k -&gt; 30k -&gt; 2.5k). Fortunately this is all play money on the side, so I'm not ... (669 characters truncated) ... (Vertical or diagonal) to mitigate risk. Here's to making making my money back in 2021.\\n\\nTL;DR I thought I was smart. Turns out, I am retarded -90%\", 'username': 'gumbyismyidol', 'subreddit': 'wallstreetbets'}, {'date': '2021-01-01', 'body': '130k in BA, 5k in 2/15/21 225C BA, AMD SPCE NIO LI covered calls set to 1/15/21', 'username': 'coldiron03', 'subreddit': 'wallstreetbets'}, {'date': '2021-01-01', 'body': 'Calls on a fucking tire company? LMAO. I guess I have done dumber shit than this (shorting $AMD before it jumped to $80)', 'username': 'Milking-Pumas', 'subreddit': 'wallstreetbets'}  ... displaying 10 of 54229 total bound parameter sets ...  {'date': '2021-12-30', 'body': 'Took an absolute beating on weeklies yesterday so looking at aapl, amd, msft to bring home some tendies over the next month', 'username': 'off_by_two', 'subreddit': 'wallstreetbets'}, {'date': '2021-12-30', 'body': 'Anyone else pick up AMD calls? 30 149C FDs.', 'username': 'ceskanda', 'subreddit': 'wallstreetbets'})]\n",
      "(Background on this error at: https://sqlalche.me/e/14/e3q8)\n"
     ]
    },
    {
     "name": "stdout",
     "output_type": "stream",
     "text": [
      "MSFT_2021 (psycopg2.OperationalError) SSL error: sslv3 alert bad record mac\n",
      "\n",
      "[SQL: INSERT INTO comments_posts (date, body, username, subreddit) VALUES (%(date)s, %(body)s, %(username)s, %(subreddit)s)]\n",
      "[parameters: ({'date': '2021-01-02', 'body': 'I like it. I have 5% of my net worth in MSFT LEAPs as well. You’re likely going to have a great year. If I’m right about the Apple ER, you may even w ... (108 characters truncated) ...  will be pretty fully valued at that point and if MSFT doesn’t have a similar jump by then it might be the better play for the remainder of the year.', 'username': 'WBuffettJr', 'subreddit': 'wallstreetbets'}, {'date': '2021-01-02', 'body': 'What do you think about msft this year? Im 60% aapl 20% msft rest funny money.', 'username': 'Gullible_State_9849', 'subreddit': 'wallstreetbets'}, {'date': '2021-01-02', 'body': 'I remember all those + MSFT 200c 3/20 lol', 'username': 'stupidgutsneverglory', 'subreddit': 'wallstreetbets'}, {'date': '2021-01-02', 'body': 'Might I suggest a fine educational article from MSFT.\\n\\nhttps://support.microsoft.com/en-us/windows/use-snipping-tool-to-capture-screenshots-00246869-1843-655f-f220-97299b865f6b', 'username': 'Hun-chan', 'subreddit': 'wallstreetbets'}, {'date': '2021-01-02', 'body': '&gt;AAPL TSLA and MSFT or FB AMZN and GOOG?\\n\\nGOOG, AMZN, TSLA. \\n  \\nAlso that second acronym, I mean.. dawg..', 'username': 'Turtlesaur', 'subreddit': 'wallstreetbets'}, {'date': '2021-01-02', 'body': 'AAPL TSLA and MSFT or FB AMZN and GOOG?', 'username': 'dub_life20', 'subreddit': 'wallstreetbets'}, {'date': '2021-01-02', 'body': 'Maybe my MSFT $250c will finally hit. Thanks for your contribution', 'username': 'spyaintnobitch', 'subreddit': 'wallstreetbets'}, {'date': '2021-01-01', 'body': \"1. In his letter, he attributes the run in stock price to his 13D filing. All I'm saying is: why increase the price before buying it. That seems to b ... (439 characters truncated) ...  they can compete with b2c from Sony/Nintendo/MSFT. A GME game studio would be interesting, except MSFT is buying them all and GME can't afford them.\", 'username': 'invader2', 'subreddit': 'wallstreetbets'}  ... displaying 10 of 15511 total bound parameter sets ...  {'date': '2021-12-30', 'body': \"Although indexes have recovered to all time highs I think it's worth noting that a lot tech stocks have been going the other way... If this omicron t ... (98 characters truncated) ... gh multiple tech stocks can maintain their current valuations.. Of course unless your GOOGL,MSFT who have their own money printer and will be immune.\", 'username': 'BorisYeltzen', 'subreddit': 'wallstreetbets'}, {'date': '2021-12-30', 'body': \"It's not a perfect correlation, but if DXY is trending a certain way, the equities tend to go the opposite. In this redonk climate, if the dollar is strong, I think the SPY and QQQ (aka AAPL and MSFT) will sell\", 'username': 'oniontelejubbal', 'subreddit': 'wallstreetbets'})]\n",
      "(Background on this error at: https://sqlalche.me/e/14/e3q8)\n",
      "PLTR_2020 (psycopg2.OperationalError) SSL error: sslv3 alert bad record mac\n",
      "\n",
      "[SQL: INSERT INTO comments_posts (date, body, username, subreddit) VALUES (%(date)s, %(body)s, %(username)s, %(subreddit)s)]\n",
      "[parameters: ({'date': '2020-07-16', 'body': 'If they are going that route probably PLTR', 'username': 'the-great-leon', 'subreddit': 'wallstreetbets'}, {'date': '2020-08-26', 'body': 'Any of yall bros got any of them friends and family access to PLTR?', 'username': 'confused_teabagger', 'subreddit': 'wallstreetbets'}, {'date': '2020-08-25', 'body': 'September 24-25.\\n\\nhttps://www.sec.gov/Archives/edgar/data/1321655/000119312520230013/d904406ds1.htm\\n\\nSome items I gleaned from reading the filing:\\n\\n1.891 billion in assets\\n\\n3.232 billion in liabilities\\n\\n(1.341) billion negative equity\\n\\n49% revenue growth 1H2020 vs 1H2019\\n\\nNYSE: PLTR', 'username': 'Reeeetail_Investor', 'subreddit': 'wallstreetbets'}, {'date': '2020-08-25', 'body': 'Update: August 25\\n\\nLooks like they filed the S-1. Direct listing dropping September 24-25.\\n\\nhttps://www.sec.gov/Archives/edgar/data/1321655/00011 ... (71 characters truncated) ... iling:\\n\\n1.891 billion in assets\\n3.232 billion in liabilities\\n(1.341) billion negative equity\\n\\n49% revenue growth 1H2020 vs 1H2019\\n\\nNYSE: PLTR', 'username': 'Reeeetail_Investor', 'subreddit': 'wallstreetbets'}, {'date': '2020-08-25', 'body': 'Evil company PLTR listing on NYSE.', 'username': 'LePootPootJames', 'subreddit': 'wallstreetbets'}, {'date': '2020-08-27', 'body': 'I read Karps letter. Going hard af into PLTR IPO', 'username': 'Steaminmcbeanymuffin', 'subreddit': 'wallstreetbets'}, {'date': '2020-08-26', 'body': 'PLTR gang ipo is September 24 now gotta make sure we got \"funding secured\"', 'username': 'euphorichermit', 'subreddit': 'wallstreetbets'}, {'date': '2020-08-28', 'body': 'Simply put, PLTR takes all the sources for intelligence, combines them visually, and draws conclusions, cutting out a lot of work for analysts and sa ... (59 characters truncated) ... rists family, track down his brothers and connections, find them on a drone, track them for days and put a black bag over their head within 48 hours.', 'username': 'wiggz420', 'subreddit': 'wallstreetbets'}  ... displaying 10 of 115255 total bound parameter sets ...  {'date': '2020-12-30', 'body': 'If PLTR doesn’t dump in the AM you know we’re going to 30', 'username': 'dhua20', 'subreddit': 'wallstreetbets'}, {'date': '2020-12-30', 'body': 'can I ask you what your prediction for PLTR will be at Thursday close', 'username': 'SalmonTendies', 'subreddit': 'wallstreetbets'})]\n",
      "(Background on this error at: https://sqlalche.me/e/14/e3q8)\n",
      "BABA_2021 (psycopg2.OperationalError) SSL error: sslv3 alert bad record mac\n",
      "\n",
      "[SQL: INSERT INTO comments_posts (date, body, username, subreddit) VALUES (%(date)s, %(body)s, %(username)s, %(subreddit)s)]\n",
      "[parameters: ({'date': None, 'body': 'cant believe people got mad at him for the BABA dip instead of at Winnie the Xi', 'username': None, 'subreddit': 'wallstreetbets'}, {'date': None, 'body': 'BABA', 'username': None, 'subreddit': 'wallstreetbets'}, {'date': None, 'body': 'Baba nio etc', 'username': None, 'subreddit': 'wallstreetbets'}, {'date': None, 'body': 'Oh absolutely! I have no doubt NIO will rise much, much higher over time. I’m just wondering if it’s gonna make a small jump for NIO day because that ... (25 characters truncated) ... m. I have leap calls for BABA. Currently I’m playing 1-2 month calls on TSLA and NIO with recent news that’s coming out soon. My fingers are crossed!', 'username': None, 'subreddit': 'wallstreetbets'}, {'date': None, 'body': 'BABA PLTR NIO ARCT FB ORI', 'username': None, 'subreddit': 'wallstreetbets'}, {'date': None, 'body': 'Bois Were do we think BABa is gonna be this month', 'username': None, 'subreddit': 'wallstreetbets'}, {'date': None, 'body': \"So according to several news sources, retail returns beat hedge funds and private equity in 2020. \\n\\nWell who didn't see that coming? WSB has more a ... (228 characters truncated) ... n\\nDefinitely finna beat them again in 2021.\\n\\nCalls on WSB.\\n\\nHNY WSB and good luck to all in 2021. \\n\\n(Feel free to add any of the DDs I missed)\", 'username': None, 'subreddit': 'wallstreetbets'}, {'date': None, 'body': 'BABA give the BABA taketh away', 'username': None, 'subreddit': 'wallstreetbets'}  ... displaying 10 of 39084 total bound parameter sets ...  {'date': '2021-12-30', 'body': 'Need baba green', 'username': 'aramvula', 'subreddit': 'wallstreetbets'}, {'date': '2021-12-30', 'body': \"Thought I'd be retarded and bought a BABA call 114c 1/7\", 'username': 'soad1331', 'subreddit': 'wallstreetbets'})]\n",
      "(Background on this error at: https://sqlalche.me/e/14/e3q8)\n",
      "BABA_2020 (psycopg2.OperationalError) SSL error: sslv3 alert bad record mac\n",
      "\n",
      "[SQL: INSERT INTO comments_posts (date, body, username, subreddit) VALUES (%(date)s, %(body)s, %(username)s, %(subreddit)s)]\n",
      "[parameters: ({'date': '2020-01-02', 'body': 'Nothing makes sense right now to be honest. Go calls on any Chinese companies. They will fudge the numbers to appear as strong as the US. \\n\\nMake go ... (31 characters truncated) ... My flavor this month is $NIO. \\n\\nMarket makers love to fuck us but they can’t fuck us on calls when China is pumping money into their own companies.', 'username': 'Irrelevant_Scientist', 'subreddit': 'wallstreetbets'}, {'date': '2020-01-02', 'body': 'Baba. Free 1-day missile shipping in the babanow app.', 'username': 'wsb_mods_r_dumbfucks', 'subreddit': 'wallstreetbets'}, {'date': '2020-01-01', 'body': \"I actually started to put money into BABA and JD in late 2018 when the trade war was in the most intense stage.   I still remember vividly that most  ... (135 characters truncated) ... ment of the majority on that sub. Most people on this sub are no different than them.   They are better off putting all their money in an index fund.\", 'username': 'tradetofi', 'subreddit': 'wallstreetbets'}, {'date': '2020-01-03', 'body': 'DIS PLUG will F your BABA', 'username': 'happygene', 'subreddit': 'wallstreetbets'}, {'date': '2020-01-03', 'body': 'May the futures scorch the earth and bring fresh growth to the savanna \\n\\n~~~~~~~~~~~~~~~~~\\n\\nNants ingonyama bagithi Baba Sithi uhm ingonyama\\n\\nNants ingonyama bagithi baba Sithi uhhmm ingonyama Ingonyama Siyo Nqoba Ingonyama Ingonyama nengw’ enamabala', 'username': 'ovacs', 'subreddit': 'wallstreetbets'}, {'date': '2020-01-03', 'body': '#MARKET RECAP\\n\\n*CLOSING LEVELS:*\\n\\nSPX +0.84% at 3258; NDX +1.59% at 8872; DJIA +1.16% at 28870. \\n\\n*STOCK SPECIFICS:*\\n\\n**Tesla (TSLA)** made s ... (1231 characters truncated) ... nufacturing PMI** SA (Dec) 50.4 vs. Prev. 51.4. \\n\\n*I won’t flood this comment with everything but look out tomorrow morning for some fresh coffee.*', 'username': 'WSBConsensus', 'subreddit': 'wallstreetbets'}, {'date': '2020-01-03', 'body': 'BABA is Daddy in Chinese\\n\\nPAPA is Daddy in Baby Languages\\n\\nPAPA JOHN = BABA JOHN \\n\\nBABA JOHN is going to eat 50 pizzas within 30 days, short BABA.', 'username': '69deadlifts', 'subreddit': 'wallstreetbets'}, {'date': '2020-01-03', 'body': \"They're killing Amazon in emerging markets. \\n\\nIndia, Brazil, and obviously China itself. Billions of folks suddenly middle class or rich, all wanting to buy shit online, and all of them using Alibaba to do it.\\n\\nYeah, BABA is a winner.\", 'username': 'VulgarisMagistralis9', 'subreddit': 'wallstreetbets'}  ... displaying 10 of 52814 total bound parameter sets ...  {'date': '2020-12-30', 'body': 'Baba 350', 'username': 'EdwardTittyHands', 'subreddit': 'wallstreetbets'}, {'date': '2020-12-30', 'body': 'You’re either drunk or.. you have baba 400c’s lmfaoo they printed today', 'username': 'tayzer91', 'subreddit': 'wallstreetbets'})]\n",
      "(Background on this error at: https://sqlalche.me/e/14/e3q8)\n"
     ]
    },
    {
     "name": "stdout",
     "output_type": "stream",
     "text": [
      "WMT_2020 (psycopg2.OperationalError) SSL error: sslv3 alert bad record mac\n",
      "\n",
      "[SQL: INSERT INTO comments_posts (date, body, username, subreddit) VALUES (%(date)s, %(body)s, %(username)s, %(subreddit)s)]\n",
      "[parameters: ({'date': '2020-01-02', 'body': 'Wmt calls', 'username': 'sleepyfries', 'subreddit': 'wallstreetbets'}, {'date': '2020-01-03', 'body': \"VTI is total world market so it's a big indicator of major macro trends. IE: if VTI is up and IWM is up, but a single company like WMT or LMT is down ... (14 characters truncated) ... dicator that the stock could be in a natural downtrend OR there is some fundamental news making the individual company lag behind the overall market.\", 'username': 'DeliciouslyUnaware', 'subreddit': 'wallstreetbets'}, {'date': '2020-01-03', 'body': 'In 2008 MCD and WMT were higher at the end of the year.  Just FYI.', 'username': 'FercPolo', 'subreddit': 'wallstreetbets'}, {'date': '2020-01-03', 'body': 'I lost 80% in one month. Between cybertruck, HD, WMT, and BB earnings it was like going through a carwash full of dildos in a convertible.', 'username': 'Nomadic_Marvel07', 'subreddit': 'wallstreetbets'}, {'date': '2020-01-02', 'body': \"Safest bet for theta gang is probably to buy some deep ITM +1 year to expiration calls and sell covered calls against them.  I've been doing that this year with COST, WMT, and NVIDIA to decent success.\", 'username': 'nullcone', 'subreddit': 'wallstreetbets'}, {'date': '2020-01-02', 'body': 'Retail is the last to take off. COST TGT and WMT will get their fair share when earnings comes and they release holiday data. If amazon had record sales I’m sure other big retailers also had somewhat decent earnings. It says something about consumer confidence', 'username': 'Not_reddits', 'subreddit': 'wallstreetbets'}, {'date': '2020-01-02', 'body': 'Anyone else take some long positions on retail stocks today? JWN, TGT, WMT, COST for me. Bought all around the bottom. Hoping for a nice green day tomorrow.', 'username': 'ZeusThunder369', 'subreddit': 'wallstreetbets'}, {'date': '2020-01-02', 'body': 'WMT', 'username': 'ilovewsb', 'subreddit': 'wallstreetbets'}  ... displaying 10 of 24987 total bound parameter sets ...  {'date': '2020-12-30', 'body': 'WMT calls?', 'username': 'OhHelloThere_', 'subreddit': 'wallstreetbets'}, {'date': '2020-12-30', 'body': \"Yes, I've been selling AMD CC since September. I own AMD at a cost basis of 81 and have milked an extra $550 by running covered calls (6% return). It ... (5 characters truncated) ... nice stock to run CC. That's the reason I'm torn. In my other option, I am seeing CRM as kind of a buy and forget (like MSFT, WMT, KO) type of stock.\", 'username': 'sankalp89', 'subreddit': 'wallstreetbets'})]\n",
      "(Background on this error at: https://sqlalche.me/e/14/e3q8)\n",
      "CC_2021 (psycopg2.OperationalError) SSL error: sslv3 alert bad record mac\n",
      "\n",
      "[SQL: INSERT INTO comments_posts (date, body, username, subreddit) VALUES (%(date)s, %(body)s, %(username)s, %(subreddit)s)]\n",
      "[parameters: ({'date': None, 'body': \"I've got shares too. Was thinking of selling some CC but I don't think it's worth it.\\n\\nOn the bright side, I think the lockup is getting priced in currently and there's not much downside left. IMO\", 'username': None, 'subreddit': 'wallstreetbets'}, {'date': None, 'body': \"Those won't pay themselves off before expiry selling OTM. Selling ATM 2 weeks out twice (~$1.50 apiece right now) would maybe get there, but obviousl ... (74 characters truncated) ... echnically not a CC but functionally close enough here) would have the short legs expire worthless so the long legs end up paid for with the premium.\", 'username': None, 'subreddit': 'wallstreetbets'}, {'date': None, 'body': 'What do u mean when brokers closed your cc? Hows that work?', 'username': None, 'subreddit': 'wallstreetbets'}, {'date': None, 'body': \"I sold a 40C for Feb19, so you're less retarded than that guy.\\n\\nThough I may be the most retarded out of the three of us for buying more stock for that CC at $28 though...\", 'username': None, 'subreddit': 'wallstreetbets'}, {'date': None, 'body': 'Just buy shares and hold or sell weekly CC and use your premium to buy more shares.', 'username': None, 'subreddit': 'wallstreetbets'}, {'date': None, 'body': 'What do you mean they pay themselves off with gains before execution? You get your premium for selling the CC, and then you’re just hoping they expire worthless, there’s no additional gain in value once you’ve sold the CC....right? Am I missing something?', 'username': None, 'subreddit': 'wallstreetbets'}, {'date': None, 'body': 'Old management over extended their physical footprint. New management is dialing it back. Some towns have 3 stores in just a few miles of each other. ... (640 characters truncated) ... se decisions. At the end of the day, that is what the market is for. Invest in a company trying to improve and you benefit from a rising share price.', 'username': None, 'subreddit': 'wallstreetbets'}, {'date': None, 'body': \"I've been working on the railroad, in the great state of Oregano.\\n\\nNo student loans, just CC debt\", 'username': None, 'subreddit': 'wallstreetbets'}  ... displaying 10 of 7597 total bound parameter sets ...  {'date': '2021-12-30', 'body': 'Should I sell a 7.5 1/21/21 CC on GENI?', 'username': 'CSMATHENGR', 'subreddit': 'wallstreetbets'}, {'date': '2021-12-30', 'body': 'Just sell puts on UVXY. If you get assigned and there’s any sort of correction, you’ll be rolling in it and you can sell CC. Otherwise, free premium', 'username': 'Melonpimp', 'subreddit': 'wallstreetbets'})]\n",
      "(Background on this error at: https://sqlalche.me/e/14/e3q8)\n",
      "LFG_2021 (psycopg2.OperationalError) SSL error: sslv3 alert bad record mac\n",
      "\n",
      "[SQL: INSERT INTO comments_posts (date, body, username, subreddit) VALUES (%(date)s, %(body)s, %(username)s, %(subreddit)s)]\n",
      "[parameters: ({'date': None, 'body': 'lfg', 'username': None, 'subreddit': 'wallstreetbets'}, {'date': None, 'body': 'Ay me too king lfg', 'username': None, 'subreddit': 'wallstreetbets'}, {'date': None, 'body': \"if you made more tendies your wife wouldn't be scissor locking Carla right now in the back of her duplex. LFG\", 'username': None, 'subreddit': 'wallstreetbets'}, {'date': None, 'body': 'LFG...BFT 🚀 🚀 🚀', 'username': None, 'subreddit': 'wallstreetbets'}, {'date': None, 'body': 'Watching PLTR tank with a coke and booze hangover/depression is the perfect way to start a new year. It only goes up from here, LFG 💎🙌🏻', 'username': None, 'subreddit': 'wallstreetbets'}, {'date': '2021-01-03', 'body': 'CRSP LFG!!! \\n\\nhttps://www.reddit.com/r/science/comments/kpaqct/new_portable_smartphonebased_ultrasensitive/?utm_source=share&amp;utm_medium=ios_app&amp;utm_name=iossmf', 'username': 'JMSeaTown', 'subreddit': 'wallstreetbets'}, {'date': '2021-01-03', 'body': 'LFG', 'username': 'throw-a-wes', 'subreddit': 'wallstreetbets'}, {'date': '2021-01-03', 'body': 'Lfg!!', 'username': 'LineReact0r1', 'subreddit': 'wallstreetbets'}  ... displaying 10 of 16543 total bound parameter sets ...  {'date': '2021-12-30', 'body': 'CLOV up 1 cent, LFG 🤡', 'username': 'thesaddestcuck', 'subreddit': 'wallstreetbets'}, {'date': '2021-12-30', 'body': 'Bought at $44, LFG!', 'username': 'excuse_meh', 'subreddit': 'wallstreetbets'})]\n",
      "(Background on this error at: https://sqlalche.me/e/14/e3q8)\n",
      "RBLX_2021 (psycopg2.OperationalError) SSL error: sslv3 alert bad record mac\n",
      "\n",
      "[SQL: INSERT INTO comments_posts (date, body, username, subreddit) VALUES (%(date)s, %(body)s, %(username)s, %(subreddit)s)]\n",
      "[parameters: ({'date': '2021-01-01', 'body': 'GME then either PLTR or RBLX if it doesn’t keep getting delayed.', 'username': 'IDoLikeMyShishkebabs', 'subreddit': 'wallstreetbets'}, {'date': None, 'body': 'RBLX gonna be real niiiiice.', 'username': None, 'subreddit': 'wallstreetbets'}, {'date': None, 'body': 'anybody buying the RBLX ipo? it’s a direct listing just like PLTR was', 'username': None, 'subreddit': 'wallstreetbets'}, {'date': None, 'body': 'RBLX will go public through a direct listing! \\n\\nThis is the making of the Ultimate Meme Stock', 'username': None, 'subreddit': 'wallstreetbets'}, {'date': None, 'body': 'YOOO! [https://www.cnbc.com/2021/01/06/roblox-raises-520-million-ahead-of-planned-direct-listing.html?utm\\\\_term=Autofeed&amp;utm\\\\_medium=Social&amp ... (218 characters truncated) ... in&amp;utm_source=Twitter#Echobox=1609976200)\\n\\n&amp;#x200B;\\n\\nRBLX gets a $29.5bn valuation. Can our autist power make that $295.0bn when it opens', 'username': None, 'subreddit': 'wallstreetbets'}, {'date': '2021-01-08', 'body': \"Yea I know. Roblox is doing a direct listing and their ticker is going to be RBLX. I'm going all in on this mf when it goes public\", 'username': 'Blingtron69000', 'subreddit': 'wallstreetbets'}, {'date': '2021-01-08', 'body': 'RBLX 1 trillion mc eoy', 'username': 'Halizones', 'subreddit': 'wallstreetbets'}, {'date': '2021-01-07', 'body': 'What are you guys who are interested in RBLX thinking about the new valuation and direct listing?', 'username': 'Blingtron69000', 'subreddit': 'wallstreetbets'}  ... displaying 10 of 10175 total bound parameter sets ...  {'date': '2021-12-30', 'body': 'they remove copyright shit on rblx all the time wtf u talkin about', 'username': 'Hexys_broken_dreams', 'subreddit': 'wallstreetbets'}, {'date': '2021-12-30', 'body': 'Reminder: Santa Rally typically lasts through the first two trading days of the new year. FB, ATVI, DIS, RBLX', 'username': 'MordorBlues', 'subreddit': 'wallstreetbets'})]\n",
      "(Background on this error at: https://sqlalche.me/e/14/e3q8)\n"
     ]
    },
    {
     "name": "stdout",
     "output_type": "stream",
     "text": [
      "DIS_2019 (psycopg2.OperationalError) SSL error: sslv3 alert bad record mac\n",
      "\n",
      "[SQL: INSERT INTO comments_posts (date, body, username, subreddit) VALUES (%(date)s, %(body)s, %(username)s, %(subreddit)s)]\n",
      "[parameters: ({'date': None, 'body': 'Theta, why you gotta do me like dis', 'username': None, 'subreddit': 'wallstreetbets'}, {'date': None, 'body': 'For no particular reason I bought a DIS 1/4 $112 put on Monday and kept averaging down until I had 6 of them at an average cost of $3.62 by close.  Sold them 5 min after open for $4.20.  So far that appears to have been the correct move, but then again tomorrow is Thursday.', 'username': None, 'subreddit': 'wallstreetbets'}, {'date': None, 'body': 'I thought you know dis bro. I hint HTML ez the BeSt ProGramMiNg LanGuAgEEEEEE!', 'username': None, 'subreddit': 'wallstreetbets'}, {'date': '2019-01-03', 'body': 'Dis and others will eventually pull their content as they move towards streaming. Doomp it', 'username': 'FD_Lyfe', 'subreddit': 'wallstreetbets'}, {'date': '2019-01-03', 'body': 'Yes, but cost passed on to consumer, or more likely absorbed by the ‘Fullfilled By Amazon’ seller.\\n\\nI think Netflix overpriced, I love Netflix but  ... (86 characters truncated) ...  AWS), and low margins, high cost of goods / content. \\n\\nBlack Mirror’s Bandersnatch was pretty awesome though, something cable cannot even attempt.', 'username': 'Dmajirb', 'subreddit': 'wallstreetbets'}, {'date': '2019-01-03', 'body': \"So you faggots can read barrons with no paywall now and I am paying them $20 a month? What do I get? A Bob Iger centerfold likely paid for by DIS. That's it. I was on the fence now I'm cancelling.\", 'username': 'londonistani', 'subreddit': 'wallstreetbets'}, {'date': '2019-01-03', 'body': 'what broker do you guys use\\n\\nwhat tool do you use to analyze the market\\n\\nhow do i do dis loll', 'username': 'icevermin', 'subreddit': 'wallstreetbets'}, {'date': '2019-01-03', 'body': 'Dah balss on dis guy', 'username': 'RUoffended', 'subreddit': 'wallstreetbets'}  ... displaying 10 of 16762 total bound parameter sets ...  {'date': '2019-12-30', 'body': 'dis calls. rad puts', 'username': 'jayp20122', 'subreddit': 'wallstreetbets'}, {'date': '2019-12-30', 'body': 'Selling puts on MSFT, DIS, and V.', 'username': 'McBeers', 'subreddit': 'wallstreetbets'})]\n",
      "(Background on this error at: https://sqlalche.me/e/14/e3q8)\n",
      "SNDL_2021 (psycopg2.OperationalError) SSL error: sslv3 alert bad record mac\n",
      "\n",
      "[SQL: INSERT INTO comments_posts (date, body, username, subreddit) VALUES (%(date)s, %(body)s, %(username)s, %(subreddit)s)]\n",
      "[parameters: ({'date': None, 'body': 'i like sndl', 'username': None, 'subreddit': 'wallstreetbets'}, {'date': '2021-01-05', 'body': 'Acy. Solo. Ride. SNDL', 'username': 'SaltyHovercraft', 'subreddit': 'wallstreetbets'}, {'date': '2021-01-04', 'body': 'Sndl', 'username': 'jameskurtzz', 'subreddit': 'wallstreetbets'}, {'date': '2021-01-04', 'body': 'SNDL $1 EOM HOP IN', 'username': 'realpersonnn', 'subreddit': 'wallstreetbets'}, {'date': '2021-01-04', 'body': 'All in SNDL shares I SWAER YOU WILL MAKE A PROFIT (at open)', 'username': 'Shmizzled', 'subreddit': 'wallstreetbets'}, {'date': '2021-01-04', 'body': 'NEW STOCK OF THE YEAR $SNDL', 'username': 'Shmizzled', 'subreddit': 'wallstreetbets'}, {'date': '2021-01-04', 'body': 'Greenthumb and Curaleaf are close to being too big to fail at this point.. SNDL (whatever that is) could easily fail and is not worth the risk imo.. ill take my 1000% with the latter and be content', 'username': 'AlexKarp2024', 'subreddit': 'wallstreetbets'}, {'date': '2021-01-04', 'body': 'Don’t forget about Sundial Growers(SNDL) currently at $.50. \\n\\nShamelessly plugging as I am in $2C 4/16 and am currently yoloing my student loan funds while being delinquent on paying for housing ,so do what you do WSB.🚀🚀🚀🚀🚀🚀🚀', 'username': 'NeverBackDrown', 'subreddit': 'wallstreetbets'}  ... displaying 10 of 46137 total bound parameter sets ...  {'date': '2021-12-30', 'body': 'WISH? SNDL?', 'username': 'justsomeitguyhere', 'subreddit': 'wallstreetbets'}, {'date': '2021-12-30', 'body': \"I have SNDL and I'm down 6%. At these prices, cannot lose.\", 'username': 'stackshockprism', 'subreddit': 'wallstreetbets'})]\n",
      "(Background on this error at: https://sqlalche.me/e/14/e3q8)\n",
      "PTON_2021 (psycopg2.OperationalError) SSL error: sslv3 alert bad record mac\n",
      "\n",
      "[SQL: INSERT INTO comments_posts (date, body, username, subreddit) VALUES (%(date)s, %(body)s, %(username)s, %(subreddit)s)]\n",
      "[parameters: ({'date': '2021-01-02', 'body': 'Add Pton', 'username': 'trojanmana', 'subreddit': 'wallstreetbets'}, {'date': '2021-01-02', 'body': 'If you’re looking for $BECKY stocks then go for LULU, PTON, PINS, TCS, ULTA', 'username': 'TheTigersAreNotReal', 'subreddit': 'wallstreetbets'}, {'date': '2021-01-02', 'body': \"So green energy kinda tanked last week, as did many ol' reliables like NET, PTON, ETSY, CHWY, and other of our overbought favorites.\\n\\nAny gay bears think there's a reason to believe it's a change in overall sentiment or is it just the usual selling before the next leg up?\", 'username': 'DarkStar668', 'subreddit': 'wallstreetbets'}, {'date': '2021-01-02', 'body': 'Let me add the $PTON stock I was shilling hard for months since March ($27) now $150+', 'username': 'ChristmasAllYear', 'subreddit': 'wallstreetbets'}, {'date': '2021-01-01', 'body': 'Wife’s family gives us a $10K check on NYD every year. Wish I would have put it all on TSLA last year obviously. What would you put it all in on for 2021? Edit: put in on PTON last year so can’t complain too much.', 'username': 'GucciManeSprayTan', 'subreddit': 'wallstreetbets'}, {'date': '2021-01-01', 'body': 'PTON and BABA leaps.\\n\\nAnd of course I sold PTON at a loss and never looked at it again.\\n\\nMy new years resolution is to be less retarded.', 'username': 'ninjas_not_welcome', 'subreddit': 'wallstreetbets'}, {'date': '2021-01-01', 'body': 'TFW I bought PTON instead of PLTR when I first joined this sub because I was high and purchased the wrong stock 🚀', 'username': 'Poland2985', 'subreddit': 'wallstreetbets'}, {'date': '2021-01-01', 'body': 'What happened at PTON lock up?', 'username': 'shalen', 'subreddit': 'wallstreetbets'}  ... displaying 10 of 7435 total bound parameter sets ...  {'date': '2021-12-30', 'body': '$PTON , $DKNG , $SPCE recovery 🚀', 'username': 'TrueNorthCoin', 'subreddit': 'wallstreetbets'}, {'date': '2021-12-30', 'body': 'Buy Zoom? We put you in stock jail\\n\\nMRNA? Straight to jail\\n\\nPTON? Jail\\n\\nBoeing? Believe it or not, also jail', 'username': 'JakeTappersCat', 'subreddit': 'wallstreetbets'})]\n",
      "(Background on this error at: https://sqlalche.me/e/14/e3q8)\n",
      "DOW_2020 (psycopg2.OperationalError) SSL error: sslv3 alert bad record mac\n",
      "\n",
      "[SQL: INSERT INTO comments_posts (date, body, username, subreddit) VALUES (%(date)s, %(body)s, %(username)s, %(subreddit)s)]\n",
      "[parameters: ({'date': '2020-01-02', 'body': 'Daddy Trump will have DOW 30k by the end of the year.', 'username': 'MEGAQUIB', 'subreddit': 'wallstreetbets'}, {'date': '2020-01-01', 'body': '**THE 2018 END-OF-YEAR FAKEOUT??**\\n\\nHopefully enough of you were paying attention, to notice that in late 2018 ((November, December)) the US stock  ... (520 characters truncated) ...  fooled by a FINANCIAL ILLUSION.\\n\\nDoes everyone think, this financial illusion was intentional? Done on purpose just to make the numbers look good?', 'username': 'xxxesus', 'subreddit': 'wallstreetbets'}, {'date': '2020-01-01', 'body': '**THE 2018 END-OF-YEAR FAKEOUT??**\\n\\nHopefully enough of you were paying attention, to notice that in late 2018 ((November, December)) the US stock  ... (520 characters truncated) ...  fooled by a FINANCIAL ILLUSION.\\n\\nDoes everyone think, this financial illusion was intentional? Done on purpose just to make the numbers look good?', 'username': 'xxxesus', 'subreddit': 'wallstreetbets'}, {'date': '2020-01-01', 'body': '**THE 2018 END-OF-YEAR FAKEOUT??**\\n\\nHopefully enough of you were paying attention, to notice that in late 2018 ((November, December)) the US stock  ... (527 characters truncated) ... fooled by a FINANCIAL ILLUSION.\\n\\nDoes everyone think, this financial illusion was intentional?  Done on purpose just to make the numbers look good?', 'username': 'xxxesus', 'subreddit': 'wallstreetbets'}, {'date': '2020-01-01', 'body': 'Dow is up in the ballpark of 8% over the last two years..', 'username': 'Musicien', 'subreddit': 'wallstreetbets'}, {'date': '2020-01-01', 'body': 'Dude I have a shit load of share and 330$ calls.  We will be fine m\\nThis is the Dow Jones babe not a fucken nobody \\n\\n\\nMeans a lot to the United States 🇺🇸', 'username': 'love2fuckbearasshoe', 'subreddit': 'wallstreetbets'}, {'date': '2020-01-03', 'body': 'Dow to 30k tmo', 'username': 'foeplay44', 'subreddit': 'wallstreetbets'}, {'date': '2020-01-03', 'body': 'ok dont worry guys, SPY Dow and everything else will be down bigly, but rest assured, AAPL and AMD will still be going up, as is tradition.', 'username': 'dingledicker', 'subreddit': 'wallstreetbets'}  ... displaying 10 of 36155 total bound parameter sets ...  {'date': '2020-12-30', 'body': 'The dow is booming, tech is dying, spy is flat as tits', 'username': 'xKhaos420', 'subreddit': 'wallstreetbets'}, {'date': '2020-12-30', 'body': 'DOW 40,000 by end of 2021 for sure', 'username': 'Mondrayish', 'subreddit': 'wallstreetbets'})]\n",
      "(Background on this error at: https://sqlalche.me/e/14/e3q8)\n"
     ]
    },
    {
     "name": "stdout",
     "output_type": "stream",
     "text": [
      "TLRY_2021 (psycopg2.OperationalError) SSL error: sslv3 alert bad record mac\n",
      "\n",
      "[SQL: INSERT INTO comments_posts (date, body, username, subreddit) VALUES (%(date)s, %(body)s, %(username)s, %(subreddit)s)]\n",
      "[parameters: ({'date': '2021-01-01', 'body': 'For everyone who is not a $WEED Bull. Did you u know that the former vice Kanzler of Germany is lobbying for $TLRY??', 'username': 'Sendeplatz', 'subreddit': 'wallstreetbets'}, {'date': '2021-01-03', 'body': \"I've got APHA 1/15 7.5c for earnings.\\n\\nIf they print, I'll probably throw some cash into TLRY leaps.\", 'username': 'BHOmber', 'subreddit': 'wallstreetbets'}, {'date': '2021-01-03', 'body': 'I’m choosing TLRY because the technicals and fundamentals are aligned fantastically right now, and also for the combo of relatively low float and hig ... (89 characters truncated) ... n this case if Dems take the Senate, I think it’s a major catalyst for the industry and TLRY will be one of the biggest benefactors of this bull run.', 'username': 'mjfarraher88', 'subreddit': 'wallstreetbets'}, {'date': '2021-01-03', 'body': 'Why TLRY in particular?', 'username': 'Apple_Pi', 'subreddit': 'wallstreetbets'}, {'date': '2021-01-02', 'body': \"my TLRY calls should be pretty stoked, but I have a bit farther of an exp date on those bad boys; any positive movement upwards should be a good time to take some profits, I'm thinking this race could be the catalyst.\", 'username': 'drinkmorekava', 'subreddit': 'wallstreetbets'}, {'date': '2021-01-02', 'body': 'Maybe ACB or TLRY', 'username': 'Cashmoneytendies', 'subreddit': 'wallstreetbets'}, {'date': '2021-01-02', 'body': 'Well 4.997Mill voted here in Georgia in November. And so far over 3Mill voted early - including 118k newly registered. So the Election Day swing for  ... (167 characters truncated) ... hining it’s fixed and rigged! Because the numbers don’t lie. \\n\\nBuying ACB TLRY (pot stock) 1/15 calls OTM. TLRY 13.50 are 0.07 as of 12/31 close...', 'username': 'StuffMyCrust69', 'subreddit': 'wallstreetbets'}, {'date': '2021-01-04', 'body': '1/15 bigly OTM. Just make sure it has high open interest and volume and good bid ask spread. I like $20 strike for ACB and TLRY', 'username': 'WolfOfNallStreet', 'subreddit': 'wallstreetbets'}  ... displaying 10 of 45680 total bound parameter sets ...  {'date': '2021-12-30', 'body': 'Tlry', 'username': 'Faban1', 'subreddit': 'wallstreetbets'}, {'date': '2021-12-30', 'body': 'MRNA made for a nice daytrade coming into $233 yday. TLRY appears to be oversold on paper but with this mount of overhead supply from bagholders just waiting for their chance to bail breakeven it likely won’t see a sustained reversal.', 'username': 'Eyecelance', 'subreddit': 'wallstreetbets'})]\n",
      "(Background on this error at: https://sqlalche.me/e/14/e3q8)\n",
      "TD_2020 (psycopg2.OperationalError) SSL error: sslv3 alert bad record mac\n",
      "\n",
      "[SQL: INSERT INTO comments_posts (date, body, username, subreddit) VALUES (%(date)s, %(body)s, %(username)s, %(subreddit)s)]\n",
      "[parameters: ({'date': '2020-01-02', 'body': 'Hmmmm....I use TD ameritrade and just read that if you have a cash account you can trade until you run out of money', 'username': 'A2CKilla', 'subreddit': 'wallstreetbets'}, {'date': '2020-01-02', 'body': 'Yahoo finance is lit. I think if autismo-hood can figure out how to act in the professional world instead of taking a page out of discord’s book they ... (23 characters truncated) ... t Robinhoods buying and selling is better than the steam market place, TD should realize they’ve fucked up when valve is more competent at their jobs', 'username': 'Twofishbkd', 'subreddit': 'wallstreetbets'}, {'date': '2020-01-02', 'body': 'yeah the td lady on the phone yelled that at us over a year ago when they called asking how we were down so much when the market was up 4%', 'username': 'jeweled_sky', 'subreddit': 'wallstreetbets'}, {'date': '2020-01-02', 'body': 'I was approved by TD for option trading and margin account. Fuck you RH. We’re done.', 'username': 'Rexology', 'subreddit': 'wallstreetbets'}, {'date': '2020-01-02', 'body': 'TD approved me and I didn’t even know what options were until May of this year lmao', 'username': '3fishinatree', 'subreddit': 'wallstreetbets'}, {'date': '2020-01-02', 'body': 'TD refuses to approve me and it’s been three years', 'username': 'OdaNobunagah', 'subreddit': 'wallstreetbets'}, {'date': '2020-01-02', 'body': '&gt; They liquidated most of their assets and set up trading accounts with TD.\\n\\nyeah that sentence hurt to read', 'username': 'roughlyaverage', 'subreddit': 'wallstreetbets'}, {'date': '2020-01-01', 'body': 'Eh it gets the job done for the most part. It’s commission free for options and OTC stocks only reason I use it. The app sucks, website Is okay but I ... (63 characters truncated) ... ou could do market buys on options and they have more order types. If you don’t mind paying per contract TD, Fidelity, or tasty works would be better', 'username': 'AvgDwnSyndrome', 'subreddit': 'wallstreetbets'}  ... displaying 10 of 16536 total bound parameter sets ...  {'date': '2020-12-30', 'body': 'I use TD.', 'username': 'yARIC009', 'subreddit': 'wallstreetbets'}, {'date': '2020-12-30', 'body': 'Is this TD Ameritrade?', 'username': 'throwaway761575', 'subreddit': 'wallstreetbets'})]\n",
      "(Background on this error at: https://sqlalche.me/e/14/e3q8)\n",
      "GS_2021 (psycopg2.OperationalError) SSL error: sslv3 alert bad record mac\n",
      "\n",
      "[SQL: INSERT INTO comments_posts (date, body, username, subreddit) VALUES (%(date)s, %(body)s, %(username)s, %(subreddit)s)]\n",
      "[parameters: ({'date': '2021-01-01', 'body': 'Or use qs instead of gs. Fight the man, man', 'username': 'Rat_Fucker_Sam', 'subreddit': 'wallstreetbets'}, {'date': '2021-01-01', 'body': 'I think there are honestly sub 18 f@gs in here as well.', 'username': 'Blue_dick', 'subreddit': 'wallstreetbets'}, {'date': '2021-01-01', 'body': 'My friend have you seen $SNAP losses? Its literally in the billions for years. And it wouldnt be an issue if there was a future for it. But how sure  ... (592 characters truncated) ... ed at $70B +\\n\\nI just honestly think the recent upgrade from GS (PT $70, are fkin kidding me?) is just a cheap trick to unload dogshit onto boomers.', 'username': 'astrovet6', 'subreddit': 'wallstreetbets'}, {'date': '2021-01-03', 'body': 'GS will touch 272 monday', 'username': 'market_realist', 'subreddit': 'wallstreetbets'}, {'date': '2021-01-02', 'body': '&gt; Most GS locations I\\'ve been to are too small to really support people collecting and playing games there.\\n\\nThat\\'s why they could make foot t ... (1728 characters truncated) ... kwards states they\\'ll just have other product but in legal states their 4th pillar of \"single guy\\'s friday night alone party store\" will have weed.', 'username': 'V_M', 'subreddit': 'wallstreetbets'}, {'date': '2021-01-02', 'body': 'Cats have 9 lives surely do gs have at least 2?', 'username': 'Googoogagababy', 'subreddit': 'wallstreetbets'}, {'date': '2021-01-02', 'body': \"GME is not becoming a weeb paradise. It's just not happening.\\n\\nI do think your idea of moving into table top is sound theoretically, but has a lot  ... (504 characters truncated) ... the industry of video games. Until they communicate something that transitions them out of that market, their business will continue to death spiral.\", 'username': 'TheSecularGlass', 'subreddit': 'wallstreetbets'}, {'date': '2021-01-02', 'body': 'What’s ur beef with GS?', 'username': 'BigBeezy905', 'subreddit': 'wallstreetbets'}  ... displaying 10 of 3020 total bound parameter sets ...  {'date': '2021-12-30', 'body': \"I have kaptian. I've obviously held the wrong shit for the wrong amount of time. \\n\\nI was just having some fun sharing my experience. If I actually gave a fuck about loosing 2Gs this year I would have given up my account. \\n\\nHere's to loosing multiple Gs next year! 🍻\", 'username': 'Aggravated-Eyes', 'subreddit': 'wallstreetbets'}, {'date': '2021-12-30', 'body': 'Dude you know how many hours of reporting is done to invest one f_ing stock in any market in big firms (more than 100 hrs). We read thru so much data ... (751 characters truncated) ... ection without Swiss Autonomy”. Not sure what was the purpose of all this but it looks like they want to have “highest” level data laws in the world.', 'username': 'blueberrydanishguy', 'subreddit': 'wallstreetbets'})]\n",
      "(Background on this error at: https://sqlalche.me/e/14/e3q8)\n"
     ]
    },
    {
     "name": "stdout",
     "output_type": "stream",
     "text": [
      "BB_2021 (psycopg2.OperationalError) SSL error: sslv3 alert bad record mac\n",
      "\n",
      "[SQL: INSERT INTO comments_posts (date, body, username, subreddit) VALUES (%(date)s, %(body)s, %(username)s, %(subreddit)s)]\n",
      "[parameters: ({'date': None, 'body': 'Np bb I love you. 👨\\u200d❤️\\u200d💋\\u200d👨', 'username': None, 'subreddit': 'wallstreetbets'}, {'date': None, 'body': 'Thx bb', 'username': None, 'subreddit': 'wallstreetbets'}, {'date': None, 'body': 'TSLA,\\nPLTR,\\nGME,\\nNIO,\\nAPPL,\\nRKT,\\nPRPL,\\nMT,\\nBB,\\n\\nThe most recent gangs ranked from highest conviction to lowest.', 'username': None, 'subreddit': 'wallstreetbets'}, {'date': None, 'body': 'Bb 5c jan 2023', 'username': None, 'subreddit': 'wallstreetbets'}, {'date': None, 'body': 'you clearly dont know that gme to 1000 bb', 'username': None, 'subreddit': 'wallstreetbets'}, {'date': None, 'body': 'I’ll do whatever you want bb', 'username': None, 'subreddit': 'wallstreetbets'}, {'date': None, 'body': 'Pls stop we can all lose our money again on Monday this isn’t the way bb', 'username': None, 'subreddit': 'wallstreetbets'}, {'date': None, 'body': 'Yeet me bb', 'username': None, 'subreddit': 'wallstreetbets'}  ... displaying 10 of 214320 total bound parameter sets ...  {'date': '2021-12-30', 'body': 'My BB puts are doing well', 'username': 'Hexys_broken_dreams', 'subreddit': 'wallstreetbets'}, {'date': '2021-12-30', 'body': 'BB is the right play.  Buy and hold.  Big year coming.', 'username': 'Canadiantruths1', 'subreddit': 'wallstreetbets'})]\n",
      "(Background on this error at: https://sqlalche.me/e/14/e3q8)\n",
      "INTC_2020 (psycopg2.OperationalError) SSL error: sslv3 alert bad record mac\n",
      "\n",
      "[SQL: INSERT INTO comments_posts (date, body, username, subreddit) VALUES (%(date)s, %(body)s, %(username)s, %(subreddit)s)]\n",
      "[parameters: ({'date': None, 'body': 'Try to sell my MSFT $ INTC 1/3 calls tomorrow FUCK', 'username': None, 'subreddit': 'wallstreetbets'}, {'date': None, 'body': \"Sell whatever you can get away with paying the lowest taxes with, so assuming they were all bought in single lots would be TWTR/VZ/INTC. Also remember to save the part you're going to be paying taxes with!\", 'username': None, 'subreddit': 'wallstreetbets'}, {'date': None, 'body': 'DIS or INTC', 'username': None, 'subreddit': 'wallstreetbets'}, {'date': None, 'body': 'Sales growth is going to increase. Amd continues to steal INTC market share in processors on both consumer and entreprise sides', 'username': None, 'subreddit': 'wallstreetbets'}, {'date': None, 'body': 'INTC or Twatter', 'username': None, 'subreddit': 'wallstreetbets'}, {'date': None, 'body': 'Fuck INTC they’re going to get shit on by AMD', 'username': None, 'subreddit': 'wallstreetbets'}, {'date': None, 'body': 'I need to liquidate about 10% due to a little due to an unexpected expense.  Which of these would you sell tomorrow?\\n\\nI could buy back in in 6 months.\\n\\nDIS 45%\\nTGT 25%\\nABBA 15%\\nINTC 5%\\nVZ 5%\\nTWTR 5%', 'username': None, 'subreddit': 'wallstreetbets'}, {'date': None, 'body': 'Just buy red stocks. I grabbed AMD MU INTC Tuesday when they were red devil dicks', 'username': None, 'subreddit': 'wallstreetbets'}  ... displaying 10 of 12291 total bound parameter sets ...  {'date': '2020-12-30', 'body': 'Activist investor group trying to get INTC to outsource manufacture; what companies could INTC outsource too? I know TSM is one theoretically, who are the others?', 'username': 'devnah721', 'subreddit': 'wallstreetbets'}, {'date': '2020-12-30', 'body': 'So activist investor trying to get INTC to outsource manufacture (among other things); what companies could INTC outsource its chipmaking too?  I know TSM is one theoretically, who are the others?', 'username': 'devnah721', 'subreddit': 'wallstreetbets'})]\n",
      "(Background on this error at: https://sqlalche.me/e/14/e3q8)\n",
      "SQ_2020 (psycopg2.OperationalError) SSL error: sslv3 alert bad record mac\n",
      "\n",
      "[SQL: INSERT INTO comments_posts (date, body, username, subreddit) VALUES (%(date)s, %(body)s, %(username)s, %(subreddit)s)]\n",
      "[parameters: ({'date': '2020-01-02', 'body': 'Why even play Apple? It’s gone up parabolically. Plenty of other good names to watch with more upside IMO. \\nSQ or COST. or GLD (NUGT)', 'username': 'asianraisin', 'subreddit': 'wallstreetbets'}, {'date': '2020-01-02', 'body': 'Sq', 'username': 'Titties212122', 'subreddit': 'wallstreetbets'}, {'date': '2020-01-02', 'body': 'I scalped a quick 25% on 1dte 63.5 puts this morning just reentered now for $1200\\n\\nMe and SQ go way back. I started watching them after about a year and a half of pypl gains. Bought my car on pypl call money.', 'username': 'DeliciouslyUnaware', 'subreddit': 'wallstreetbets'}, {'date': '2020-01-02', 'body': \"Played sq put in November, lost 10k. Now I think about it. It wasn't that bad. \\n\\n\\nGUH. Happy new year!\", 'username': 'darkbook4', 'subreddit': 'wallstreetbets'}, {'date': '2020-01-02', 'body': 'You still firm on SQ 61 puts', 'username': 'staannlee9', 'subreddit': 'wallstreetbets'}, {'date': '2020-01-02', 'body': 'Holy shit. Are you me? Sq totally fucked me in Nov. was down to like $9k and now I’m back to $23k thanks to Apple. \\n\\nIf AMD continues this moon I’ll pass $25k today. \\n\\nUp $6k today', 'username': 'chandler2020', 'subreddit': 'wallstreetbets'}, {'date': '2020-01-02', 'body': \"FUCK. YES. I'm up $3k today, hovering around $25k total, and back in the green. Was down to 14k in October after getting cucked by SQ but I kept with it and I'm mooning today boys!\", 'username': 'trickyvinny', 'subreddit': 'wallstreetbets'}, {'date': '2020-01-02', 'body': 'Imagine thinking SQ is actually worth $64 in 2020 lol. I put 1k on 63.5/63/62.5 each expiring tomorrow.', 'username': 'DeliciouslyUnaware', 'subreddit': 'wallstreetbets'}  ... displaying 10 of 19158 total bound parameter sets ...  {'date': '2020-12-30', 'body': 'SQ is bleeding more?', 'username': 'itskelvinn', 'subreddit': 'wallstreetbets'}, {'date': '2020-12-30', 'body': 'SQ and BABA gang wya? 🚀 🚀 🚀 🚀', 'username': 'Ill_Ad3484', 'subreddit': 'wallstreetbets'})]\n",
      "(Background on this error at: https://sqlalche.me/e/14/e3q8)\n",
      "PT_2021 (psycopg2.OperationalError) SSL error: sslv3 alert bad record mac\n",
      "\n",
      "[SQL: INSERT INTO comments_posts (date, body, username, subreddit) VALUES (%(date)s, %(body)s, %(username)s, %(subreddit)s)]\n",
      "[parameters: ({'date': '2021-01-02', 'body': \"What's ur PT?\", 'username': 'ibhenry', 'subreddit': 'wallstreetbets'}, {'date': '2021-01-02', 'body': \"UPDATE: Averaged down and added 400 More contracts for an average cost per share of 1.91 (1400 Contracts total). Friday's 4% bump brought me up 50k f ... (381 characters truncated) ... tum. Looking for a 10% increase next week, if we don't see that by Wednesday then we will start looking at that parachute to jump into the next play.\", 'username': '_kruel_', 'subreddit': 'wallstreetbets'}, {'date': '2021-01-02', 'body': 'PT of $18 by end of Jan', 'username': 'OverpricedBagel', 'subreddit': 'wallstreetbets'}, {'date': '2021-01-02', 'body': \"Trading below fair value given it's rate of growth. At 15% capex I'm looking at a PT of 340 and that's being convervative.\\n\\nIf you think it's VIE structure and the CCP bumping heads with Ma is a non-issue then BABA is a nobrainer.\", 'username': 'DustyBowls', 'subreddit': 'wallstreetbets'}, {'date': '2021-01-02', 'body': 'It’s 38.6%, boomer. Also you need to consider the upside not the premium. 38.6% is great if the 3 month PT is +250%, which it is, boomer. Everything is relative.', 'username': 'deltalake', 'subreddit': 'wallstreetbets'}, {'date': '2021-01-01', 'body': 'Everything is so bearish now with BABA I actually think my calls have a shot. They are not getting delisted and was slapped with a 75k fine. They are extremely oversold and well below many analysts low PT.', 'username': 'Crossfitguy25', 'subreddit': 'wallstreetbets'}, {'date': '2021-01-01', 'body': 'what I know with certainty is the PT is above $0 and less than $15,000.', 'username': 'MedtnerOp27', 'subreddit': 'wallstreetbets'}, {'date': '2021-01-01', 'body': 'My friend have you seen $SNAP losses? Its literally in the billions for years. And it wouldnt be an issue if there was a future for it. But how sure  ... (592 characters truncated) ... ed at $70B +\\n\\nI just honestly think the recent upgrade from GS (PT $70, are fkin kidding me?) is just a cheap trick to unload dogshit onto boomers.', 'username': 'astrovet6', 'subreddit': 'wallstreetbets'}  ... displaying 10 of 8784 total bound parameter sets ...  {'date': '2021-12-30', 'body': 'Lmao if you use analyst pt as DD you deserve to lose money 😂', 'username': 'dennis8542', 'subreddit': 'wallstreetbets'}, {'date': '2021-12-30', 'body': 'Managed to convince the missus to have a chat with a PT. She’s talking to the PT now. Has a nice bod but I want more. Let’s goooooooo. The PT is super fit, like she’s been a personal trainer for ages 🤞🤞🤞🤞', 'username': 'Diamondhands4dagainz', 'subreddit': 'wallstreetbets'})]\n",
      "(Background on this error at: https://sqlalche.me/e/14/e3q8)\n"
     ]
    },
    {
     "name": "stdout",
     "output_type": "stream",
     "text": [
      "VXX_2020 (psycopg2.OperationalError) SSL error: sslv3 alert bad record mac\n",
      "\n",
      "[SQL: INSERT INTO comments_posts (date, body, username, subreddit) VALUES (%(date)s, %(body)s, %(username)s, %(subreddit)s)]\n",
      "[parameters: ({'date': '2020-01-02', 'body': 'What are the chances $AAPL crashes this year and takes the rest of the market with it? I was considering some March Puts on $AAPL but thinking $VXX Calls might be the way to go.', 'username': 'SomeComparison', 'subreddit': 'wallstreetbets'}, {'date': '2020-01-02', 'body': 'or buy cheap OTM VXX calls', 'username': 'ilovewsb', 'subreddit': 'wallstreetbets'}, {'date': '2020-01-03', 'body': 'My oxy calls up over 100% Hope continue to moon after today.  Also may see my VXX calls finally turn positive some', 'username': 'DrUNC83', 'subreddit': 'wallstreetbets'}, {'date': '2020-01-03', 'body': 'Currently down $5k, hopefully this shit will keep going for the next month and VXX will spike up to$30 🤑', 'username': 'TheHorizonDawn', 'subreddit': 'wallstreetbets'}, {'date': '2020-01-03', 'body': 'Holy fuck futures crashing over Iran. MAYBE my March VXX calls I’ve been holding the past 2 months will be saved!!', 'username': 'TheHorizonDawn', 'subreddit': 'wallstreetbets'}, {'date': '2020-01-03', 'body': 'Held my VXX and USO calls today...might pay off tomorrow', 'username': 'alleyoopcoop', 'subreddit': 'wallstreetbets'}, {'date': '2020-01-02', 'body': 'Why not just buy vxx calls expiring 15/30/45 days out and hope for a nice pullback?', 'username': 'Puppetnopuppet', 'subreddit': 'wallstreetbets'}, {'date': '2020-01-02', 'body': 'I would either buy options on VXX or don’t do a spread and accept you are going to lose money on this trade 11 months out of 12 but the 12th may just ... (612 characters truncated) ... on’t assume that just because it’s low you’re smart money if you buy calls on it without some reason to believe it’s going to spike in the near term.', 'username': 'dkrich', 'subreddit': 'wallstreetbets'}  ... displaying 10 of 39444 total bound parameter sets ...  {'date': '2020-12-30', 'body': 'When is the time to get in on vxx calls... asking for a friend.', 'username': 'drinkmorekava', 'subreddit': 'wallstreetbets'}, {'date': '2020-12-30', 'body': '`here we are again..... all in on VXX`', 'username': 'Freeon1', 'subreddit': 'wallstreetbets'})]\n",
      "(Background on this error at: https://sqlalche.me/e/14/e3q8)\n",
      "MS_2021 (psycopg2.OperationalError) SSL error: sslv3 alert bad record mac\n",
      "\n",
      "[SQL: INSERT INTO comments_posts (date, body, username, subreddit) VALUES (%(date)s, %(body)s, %(username)s, %(subreddit)s)]\n",
      "[parameters: ({'date': None, 'body': \"Yeah... MS cut that deal because they know there isn't going to BE  GME to have to pay for very long, but in the meantime they can get them to shill XBoxes into people's houses... win/win for MS.\", 'username': None, 'subreddit': 'wallstreetbets'}, {'date': None, 'body': 'Ms. Wu Mon Tohuggin Kiss', 'username': None, 'subreddit': 'wallstreetbets'}, {'date': None, 'body': 'Some people use MS Paint just for anything...', 'username': None, 'subreddit': 'wallstreetbets'}, {'date': '2021-01-03', 'body': \"talked to Vixen? she's got an MS in Psych. could probably help.\", 'username': 'Sayter', 'subreddit': 'wallstreetbets'}, {'date': '2021-01-03', 'body': 'I like less pixels cuz it makes it easier to edit in ms paint. If you want more pixels just resize it in photoshop or ms paint', 'username': 'gniziralopiB', 'subreddit': 'wallstreetbets'}, {'date': '2021-01-02', 'body': 'Marvellous Ms Maisel, Blown Away (glass blowing docuseries), Soul', 'username': 'JpowYellen3some', 'subreddit': 'wallstreetbets'}, {'date': '2021-01-02', 'body': 'I mean if you’re gonna draw fucking lines might as well just do it on MS paint. Wtf is this shit', 'username': 'Ranger_Gladys', 'subreddit': 'wallstreetbets'}, {'date': '2021-01-02', 'body': \"wait why would they take it out on baba?  Most likely they'll just shutter some MS/Google offices and call it even\", 'username': 'stonks_better', 'subreddit': 'wallstreetbets'}  ... displaying 10 of 3061 total bound parameter sets ...  {'date': '2021-12-31', 'body': 'Not sure about the origin but here are some resellers!\\n\\n[Link](https://www.google.com/search?q=dog+bowl+maze&amp;client=ms-android-verizon&amp;prmd ... (58 characters truncated) ... 6309960&amp;source=lnms&amp;tbm=shop&amp;sa=X&amp;sqi=2&amp;ved=2ahUKEwi__4rO-Yz1AhXrh_0HHQyKAlEQ_AUoAXoECAIQAQ&amp;biw=384&amp;bih=723&amp;dpr=3.75)', 'username': 'SageVegaS_', 'subreddit': 'wallstreetbets'}, {'date': '2021-12-30', 'body': 'Lol what are you saying bud I’m dead serious….. try suffering with MS and multiple spinal procedures at 18 and see how much you wanna do for others', 'username': 'GTMoneyGNG', 'subreddit': 'wallstreetbets'})]\n",
      "(Background on this error at: https://sqlalche.me/e/14/e3q8)\n",
      "BA_2020 (psycopg2.OperationalError) SSL error: sslv3 alert bad record mac\n",
      "\n",
      "[SQL: INSERT INTO comments_posts (date, body, username, subreddit) VALUES (%(date)s, %(body)s, %(username)s, %(subreddit)s)]\n",
      "[parameters: ({'date': '2020-01-02', 'body': 'BA 320 please!', 'username': 'ibro982003', 'subreddit': 'wallstreetbets'}, {'date': '2020-01-02', 'body': 'Ba is backed by the department of defense bro don’t fuckin worry about airbus', 'username': 'ignig', 'subreddit': 'wallstreetbets'}, {'date': '2020-01-02', 'body': \"Airbus is gay. It's like the gorilla who puffs his chest until the real silverback BA comes back from taking a shit\", 'username': 'ilovewsb', 'subreddit': 'wallstreetbets'}, {'date': '2020-01-02', 'body': 'Most of that 25% is lost value due to fearful overselling, a lot different than it being overbought. Dumb stock to bet against just like BA', 'username': 'ilovewsb', 'subreddit': 'wallstreetbets'}, {'date': '2020-01-02', 'body': \"I dunno Airbus is kicking ass right now and all $BA news is bad. Like all bad, always. I'd much sooner believe it will trade sideways all year.\", 'username': 'Vanhandle', 'subreddit': 'wallstreetbets'}, {'date': '2020-01-02', 'body': 'Ok I’ll be honest \\n\\n\\nI am a BA$ investor and was ready to buy shares at 290$ has a 70k limit order \\n\\nNever got filled or even got near Doing so  ... (236 characters truncated) ... re ffa approves the max to fly again or ba$ gets a bail out some way by the United States government\\n\\nTo big to fail \\n\\nBa 380$ by the end of 2020', 'username': 'love2fuckbearasshoe', 'subreddit': 'wallstreetbets'}, {'date': '2020-01-02', 'body': 'And to travel!\\n\\nBooked some flights today, couldn’t grab DAL for every leg so had to get some other scrubs w BA 737 exposure.\\n\\nYOU WIN THIS ROUND RUTHLESS CEO', 'username': '420dogshitTradez', 'subreddit': 'wallstreetbets'}, {'date': '2020-01-02', 'body': 'Ba please go past 340 this week thanks', 'username': 'Sandbax', 'subreddit': 'wallstreetbets'}  ... displaying 10 of 56134 total bound parameter sets ...  {'date': '2020-12-30', 'body': \"Hi OP.  I am thinking about buying $25 call options that expire end of 2021.  What happens to options holders if BA doesn't find a merger acquisition ... (38 characters truncated) ... ers getting back $20 per share?\\n\\nI'm new to options trading but I am thinking about buying 50k worth for PSTH.  Lemme know what you think.  Thanks.\", 'username': 'rpls2wvs', 'subreddit': 'wallstreetbets'}, {'date': '2020-12-30', 'body': \"Ba is gonna be a ten bagger. They'll be upgraded cuz their plain flew and it'll 🚀\", 'username': 'SuspiciousStuff3', 'subreddit': 'wallstreetbets'})]\n",
      "(Background on this error at: https://sqlalche.me/e/14/e3q8)\n",
      "RE_2019 (psycopg2.OperationalError) SSL error: sslv3 alert bad record mac\n",
      "\n",
      "[SQL: INSERT INTO comments_posts (date, body, username, subreddit) VALUES (%(date)s, %(body)s, %(username)s, %(subreddit)s)]\n",
      "[parameters: ({'date': '2019-01-02', 'body': \"So, from my huge losses last year, I can give you this advice which is very important. Cut your losses early after a set % is hit. Averaging down a l ... (599 characters truncated) ...  losing positions, cut losses early and take gains early. You can always re-enter the trade the next day or even same day if you have additional $$$.\", 'username': 'uninfinity', 'subreddit': 'wallstreetbets'}, {'date': '2019-01-02', 'body': 'I think we will visit 265 before we see 233 again, but we will re-visit the bear market barometer at or before the tariffs truce expires in march.', 'username': 'goodg101', 'subreddit': 'wallstreetbets'}, {'date': '2019-01-02', 'body': \"My only wondering is that Trump knows if market tanks this year he has 0 chance of getting re-elected. Not sure what his strategy is though but short term plays until a direction is forged.\\n\\n*Don't ban me mods. This is market related*\", 'username': 'imnotyourgirl', 'subreddit': 'wallstreetbets'}, {'date': '2019-01-02', 'body': \"would definitely need sources on that. Bottom line is Trump literally wrote a book about making deals. There's no option for him. He must make a deal before 2020 to win re-election. \\n\\nObviously you're free to believe otherwise. \", 'username': 'Texas_Rangers', 'subreddit': 'wallstreetbets'}, {'date': '2019-01-02', 'body': 'Literally google it you fucking moron. it has nothing to do with \"cannot offset your long term loss with a short term gain\"\\n\\nIt does matter if it i ... (979 characters truncated) ... as big of deal as people make of it.\" \\n\\nYeah thats probably because you dont know what the fuck a wash sale is at all so of course you think that. ', 'username': 'poopDOLLLA', 'subreddit': 'wallstreetbets'}, {'date': '2019-01-02', 'body': 'Balance has been re-established in the universe.', 'username': 'Aranthos-Faroth', 'subreddit': 'wallstreetbets'}, {'date': '2019-01-01', 'body': \"Got my TFSA to 140K. Last couple months did some srs damage but I pulled out half to pay off debt. \\n\\nFrom my understanding, I can re-contribute that 70k+6k for 2019.  \\n\\nI've heard (not sure if truth or rumour) they're soon going to put the banhammer on options trading in TFSA. \", 'username': 'ValueInvestingIsDead', 'subreddit': 'wallstreetbets'}, {'date': '2019-01-01', 'body': \"I think we have a retest at 260 and thats where I'll re-evaluate my positions.  most likely going to stick to longer dated options like 3 months or so out.\", 'username': 'DankReynolds', 'subreddit': 'wallstreetbets'}  ... displaying 10 of 4558 total bound parameter sets ...  {'date': '2019-12-30', 'body': 'I too would like to know more information on what stocks to be holding, or not holding, if Mr.Trump is re-elected.', 'username': 'throwaway_0x90', 'subreddit': 'wallstreetbets'}, {'date': '2019-12-30', 'body': 'There\\'s a number of ways for the equities markets to collapse.\\n\\nThe easiest, least likely involves corporate debt being re-rated below BBB.  It wo ... (158 characters truncated) ... corporate debt is \"covlite\", which requires an outright default before the debt is re-rated (like, no shit Sherlock...  the debt got defaulted upon).', 'username': '1st_Amendment_EndRun', 'subreddit': 'wallstreetbets'})]\n",
      "(Background on this error at: https://sqlalche.me/e/14/e3q8)\n"
     ]
    },
    {
     "name": "stdout",
     "output_type": "stream",
     "text": [
      "TIL_2020 (psycopg2.OperationalError) SSL error: sslv3 alert bad record mac\n",
      "\n",
      "[SQL: INSERT INTO comments_posts (date, body, username, subreddit) VALUES (%(date)s, %(body)s, %(username)s, %(subreddit)s)]\n",
      "[parameters: ({'date': '2020-01-02', 'body': 'Yeah I’m still not making any trades til 2 weeks in to the new year when big money is back from yachting and settled in', 'username': '___---________------', 'subreddit': 'wallstreetbets'}, {'date': '2020-01-02', 'body': 'Weed stocks bull run til April?', 'username': 'ChinaUnfairGoingWell', 'subreddit': 'wallstreetbets'}, {'date': '2020-01-02', 'body': 'Flat til Jan 15th with the weird news cycle', 'username': 'Kristoloy', 'subreddit': 'wallstreetbets'}, {'date': '2020-01-02', 'body': 'Sure you could, but that’s hardly day trading... Most traders don’t hold their positions until market close. They get in and out of the same stock se ... (90 characters truncated) ...  is just gambling unless you’re momentum trading which hardly works for an entire day, it usually only works in the first 3 hours of the trading day.', 'username': 'NoHaxPlx', 'subreddit': 'wallstreetbets'}, {'date': '2020-01-01', 'body': \"Wait til March there's too many of you and clean up your weights fuck\", 'username': 'Fecestrader420', 'subreddit': 'wallstreetbets'}, {'date': '2020-01-03', 'body': 'Not just yet, wait til cash open tomorrow lmao', 'username': 'ngram11', 'subreddit': 'wallstreetbets'}, {'date': '2020-01-03', 'body': 'Imma wait til tomorrow morning, with how futures are looking.', 'username': 'Evie_Chandler', 'subreddit': 'wallstreetbets'}, {'date': '2020-01-03', 'body': 'aapl calls have worked for the past thirty consecutive years. just do that til it doesn’t.', 'username': 'xler3', 'subreddit': 'wallstreetbets'}  ... displaying 10 of 24534 total bound parameter sets ...  {'date': '2020-12-30', 'body': 'Gme pump lasts til April atleast', 'username': 'PM_ME_TENDIEZ', 'subreddit': 'wallstreetbets'}, {'date': '2020-12-30', 'body': 'Works til it doesn’t. But seriously, it would probably work.', 'username': 'SensibleReply', 'subreddit': 'wallstreetbets'})]\n",
      "(Background on this error at: https://sqlalche.me/e/14/e3q8)\n",
      "IBKR_2021 (psycopg2.OperationalError) SSL error: sslv3 alert bad record mac\n",
      "\n",
      "[SQL: INSERT INTO comments_posts (date, body, username, subreddit) VALUES (%(date)s, %(body)s, %(username)s, %(subreddit)s)]\n",
      "[parameters: ({'date': '2021-01-02', 'body': 'Just curious, how much does IBKR knock down the portfolio margin when you’re this concentrated?', 'username': 'Wanderer1066', 'subreddit': 'wallstreetbets'}, {'date': '2021-01-01', 'body': \"Copy that.  I'm not on IBKR but I think the move is declining to loan them. Do you have that option?  /u/Uberkikz11 might have some insight.\", 'username': 'BigMapleTree', 'subreddit': 'wallstreetbets'}, {'date': '2021-01-01', 'body': 'Wells Fargo loan , I should of done ibkr$ margin due to the 2% over 1 million loan fee \\n\\nBut I already had Wells Fargo connections with my existing businesses.\\n\\nU know New York power type shit', 'username': 'LUV2FUKMARRIEDMILFS', 'subreddit': 'wallstreetbets'}, {'date': '2021-01-01', 'body': 'I own 38k on margin. Can confirm IBKR is asking me to loan my shares', 'username': 'LemniscateSideEight', 'subreddit': 'wallstreetbets'}, {'date': '2021-01-03', 'body': \"IBKR. Not bad at all for europeans.\\n\\nCCs are okay, I sell 15-20% OTM.\\n\\nI don't know yet if I'll keep them for a long term or not. The lockup exp makes me uncomfortable.\", 'username': 'jackperitas', 'subreddit': 'wallstreetbets'}, {'date': '2021-01-03', 'body': 'Yesterday I posted a simple question and I got no answers but I was awarded gold.\\n\\nJeez, I love the retardness of WSB :D\\n\\nBut am still looking for an answer. If you use IBKR, which market data are you subscribed to?', 'username': 'TheRealRelaxedHabibi', 'subreddit': 'wallstreetbets'}, {'date': '2021-01-02', 'body': \"You know what's funny? IBKR has a ticker for any news regarding any given stock and classifies these news as positive or negative. This article was rated as positive news for GME I shit you not.\", 'username': 'F1remind', 'subreddit': 'wallstreetbets'}, {'date': '2021-01-02', 'body': \"Who's using IBKR and which market data are you subscribed to ?\", 'username': 'TheRealRelaxedHabibi', 'subreddit': 'wallstreetbets'}  ... displaying 10 of 5293 total bound parameter sets ...  {'date': '2021-12-31', 'body': \"If I had 2.6 million in equity, even if it were on a loan, I'd open an IBKR account and buy $4 million in QYLD/RYLD/XYLD on margin.\\n\\nThe interest o ... (19 characters truncated) ... s would be probably around 3% average and the return on that would yield $400k/year (minus taxes).  Reinvest dividends and you're still living large.\", 'username': 'ricardoandmortimer', 'subreddit': 'wallstreetbets'}, {'date': '2021-12-30', 'body': 'IBKR has the lowest margin rate, by FAR. No idea what you are talking about', 'username': 'aguibuk', 'subreddit': 'wallstreetbets'})]\n",
      "(Background on this error at: https://sqlalche.me/e/14/e3q8)\n",
      "CRM_2020 (psycopg2.OperationalError) SSL error: sslv3 alert bad record mac\n",
      "\n",
      "[SQL: INSERT INTO comments_posts (date, body, username, subreddit) VALUES (%(date)s, %(body)s, %(username)s, %(subreddit)s)]\n",
      "[parameters: ({'date': None, 'body': \"Gather round for 2020 stock picks for dummies!\\n\\nBest chance of grinding up near old highs and beyond (volatility included): CRWD, TWLO, ROKU, NFLX, ... (556 characters truncated) ... nBecky called, she wants her tights she let you borrow back, now go buy your own you cheap bitch: LULU, SBUX, ULTA, PTON, \\n\\nStonk only go up: SHOP.\", 'username': None, 'subreddit': 'wallstreetbets'}, {'date': None, 'body': 'I have amd, BA, and crm calls expiring tmr, at first I had trade desk calls I sold them at open and bought the stocks I mentioned.', 'username': None, 'subreddit': 'wallstreetbets'}, {'date': None, 'body': \"Just beginning to look at them all. So far, some of them don't look right based on what the pictures showed or what the OPs updated later on.\\n\\nTSLA ... (114 characters truncated) ... Don�t worry lost it all ..., (Gains $130,000)\\n\\nSPY: Another $100K in Spy puts., (Losses -$102,600)\\n\\nAMZN: $100k on $AMZN Puts, (Losses -$103,500)\", 'username': None, 'subreddit': 'wallstreetbets'}, {'date': '2020-01-06', 'body': 'CRM is a great example', 'username': 'Red_EyedBear', 'subreddit': 'wallstreetbets'}, {'date': '2020-01-07', 'body': \"Dang I feel like no one here really trades CRM, but it's actually one of the best long term stocks there is to hold (I know no one cares about investing here).  It did have a huge move today, given it's vol is usually on the lower side for a tech name.\", 'username': 'y7nx90', 'subreddit': 'wallstreetbets'}, {'date': '2020-01-07', 'body': 'all my $$ is in aapl and Tesla and I have no more left for crm', 'username': '3fishinatree', 'subreddit': 'wallstreetbets'}, {'date': '2020-01-07', 'body': 'CRM is one of those things I refuse to touch again. Burned me nearly everytime, regardless of strategy. Long term bull on the stock but shits swings between volatile, pumping, drilling, and staying range locked. Will not touch options on that shit ever again.', 'username': 'xX_MonsterDong420_Xx', 'subreddit': 'wallstreetbets'}, {'date': '2020-01-07', 'body': 'Crm has been printing and I don’t see anyone mentioning it here', 'username': 'wolfenstein1998', 'subreddit': 'wallstreetbets'}  ... displaying 10 of 10758 total bound parameter sets ...  {'date': '2020-12-30', 'body': \"Yes, I've been selling AMD CC since September. I own AMD at a cost basis of 81 and have milked an extra $550 by running covered calls (6% return). It ... (5 characters truncated) ... nice stock to run CC. That's the reason I'm torn. In my other option, I am seeing CRM as kind of a buy and forget (like MSFT, WMT, KO) type of stock.\", 'username': 'sankalp89', 'subreddit': 'wallstreetbets'}, {'date': '2020-12-30', 'body': \"I have 100 shares of AMD - so 9k right there. I have an additional 14k to throw in. I am torn between these two ideas - \\n\\n1. Sell all AMD and buy 1 ... (75 characters truncated) ... , nothing's changed with its fundamentals. \\n2. Keep AMD and buy 100 shares of ARKK with that additional 14k. \\n\\nWhich one of these should I go for?\", 'username': 'sankalp89', 'subreddit': 'wallstreetbets'})]\n",
      "(Background on this error at: https://sqlalche.me/e/14/e3q8)\n"
     ]
    }
   ],
   "source": [
    "## attempts to upload all csv files\n",
    "for ticker in tickers_done:\n",
    "    for year in years:\n",
    "        #gets csv file\n",
    "        try:\n",
    "            df = pd.read_csv('test/'+str(ticker)+'_'+str(year)+\".csv\")\n",
    "            df= df[['date','body','username','subreddit']]\n",
    "        except:\n",
    "            continue\n",
    "        try:\n",
    "            df.to_sql(name='comments_posts', con=engine, if_exists='append',index=False)\n",
    "        except Exception as e:\n",
    "            #prints which file failed and what the error is\n",
    "            print(str(ticker)+'_'+str(year) + ' ' + str(e))"
   ]
  },
  {
   "cell_type": "code",
   "execution_count": 3,
   "id": "37002d34",
   "metadata": {},
   "outputs": [
    {
     "data": {
      "text/plain": [
       "31"
      ]
     },
     "execution_count": 3,
     "metadata": {},
     "output_type": "execute_result"
    }
   ],
   "source": [
    "#list of failed file uploads\n",
    "failed=['crm_2020','ibkr_2021','til_2020','re_2019','ba_2020','ms_2021',\n",
    "       'vxx_2020','pt_2021','sq_2020','intc_2020','bb_2021','gs_2021',\n",
    "       'td_2020','tlry_2021','dow_2020','pton_2021','sndl_2021','dis_2019',\n",
    "       'rblx_2021','lfg_2021','cc_2021','wmt_2020','baba_2020','baba_2021',\n",
    "       'pltr_2020','MSFT_2021','AMD_2021','AMC_2021','TSLA_2020','TSLA_2021',\n",
    "       'GME_2021']\n",
    "len(failed)"
   ]
  },
  {
   "cell_type": "code",
   "execution_count": 7,
   "id": "28e40429",
   "metadata": {},
   "outputs": [
    {
     "name": "stdout",
     "output_type": "stream",
     "text": [
      "pltr_2020_12_3 (psycopg2.OperationalError) SSL error: sslv3 alert bad record mac\n",
      "\n",
      "[SQL: INSERT INTO comments_posts (date, body, username, subreddit) VALUES (%(date)s, %(body)s, %(username)s, %(subreddit)s)]\n",
      "[parameters: ({'date': '2020-12-04', 'body': 'Yea dude for sure. And it’s a great long term play. Buying during the drop would have been a great long term stock hold in hindsight. It’s basically the PLTR or the plane industry haha', 'username': 'InspectorExtreme3676', 'subreddit': 'wallstreetbets'}, {'date': '2020-12-04', 'body': 'Of course the Nazis love PLTR', 'username': 'iseebrucewillis', 'subreddit': 'wallstreetbets'}, {'date': '2020-12-04', 'body': 'Pffff other guy had $5M in pltr calls with a 40 strike.  It has to each that by Jan and may.', 'username': '_BlowJays_', 'subreddit': 'wallstreetbets'}, {'date': '2020-12-04', 'body': \"NLP, data, charts and stuff. So what you're saying is... $PLTR?\", 'username': 'Sunyayana', 'subreddit': 'wallstreetbets'}, {'date': '2020-12-04', 'body': 'The only reason I’m diamond holding PLTR is the 1-he MACD is bullish. If tomorrow ends with an upward trend, then it still got room for growth in the short term.', 'username': 'lilrocketman2017', 'subreddit': 'wallstreetbets'}, {'date': '2020-12-04', 'body': 'you deserve this 🥇. Also fuck 🌈🐻PLTR to the fucking moon 🚀🚀🚀🚀🚀🚀🚀🚀🚀', 'username': 'muhamedjordan23', 'subreddit': 'wallstreetbets'}, {'date': '2020-12-04', 'body': 'PLTR rallying today to taunt me tapping out yesterday. \\n\\nTomorrow, I’m thinking back up the truck on NIO, maybe some PTON or NVAX', 'username': 'silverbugoutbag', 'subreddit': 'wallstreetbets'}, {'date': '2020-12-04', 'body': 'Did the IV go down or smthg? The premiums are way cheaper compared to the beginning of the week. The reduce price of the underlying &amp; time decay  ... (11 characters truncated) ... her factors but shit still doesn’t add up !! 🤔\\n\\nI can’t profit of my 28c, 29c 12/18 &amp; 25c, 29c 12/24 unless PLTR moons to 40 in the next week 😭', 'username': 'DeadlyPantsOfSea', 'subreddit': 'wallstreetbets'}  ... displaying 10 of 1692 total bound parameter sets ...  {'date': '2020-12-03', 'body': 'Im Buying whatever Stock the ENTIRE Country of CHINA is Buying.\\n\\nPLTR $200+', 'username': 'IntelligentGrocery54', 'subreddit': 'wallstreetbets'}, {'date': '2020-12-03', 'body': \"WSB when PLTR is down on German markets: Europoors don't determine the price of stocks, they just follow our lead.\\n\\nAlso WSB: PLTR is up on German markets!!! 🚀\", 'username': 'MysticMagikarp', 'subreddit': 'wallstreetbets'})]\n",
      "(Background on this error at: https://sqlalche.me/e/14/e3q8)\n"
     ]
    }
   ],
   "source": [
    "#attempts to upload failed files by switching to the daily csvs \n",
    "#instead of using the yearly ones\n",
    "for ticker in failed:\n",
    "    for month in range(1,13):\n",
    "        for day in range(1,32):\n",
    "            try:\n",
    "                df = pd.read_csv('csv/'+str(ticker)+'_'+str(month)+'_'+str(day)+\".csv\")\n",
    "                df= df[['date','body','username','subreddit']]\n",
    "            except:\n",
    "                continue\n",
    "            try:\n",
    "                #tries uploading using chunking in case size was the issue\n",
    "                    df.to_sql(name='comments_posts', \n",
    "                              con=engine,\n",
    "                              if_exists='append',\n",
    "                              index=False,\n",
    "                              chunksize=5000\n",
    "                             )\n",
    "            except Exception as e:\n",
    "                #prints failed files\n",
    "                    print(str(ticker)+'_'+str(month)+'_'+str(day) +' ' + str(e))"
   ]
  },
  {
   "cell_type": "code",
   "execution_count": 9,
   "id": "667f1597",
   "metadata": {},
   "outputs": [],
   "source": [
    "#retrying to upload failed file\n",
    "df = pd.read_csv('csv/pltr_2020_12_3.csv')\n",
    "df= df[['date','body','username','subreddit']]\n",
    "#uses smaller chunk size\n",
    "df.to_sql(name='comments_posts', \n",
    "                              con=engine,\n",
    "                              if_exists='append',\n",
    "                              index=False,\n",
    "                              chunksize=300\n",
    "                             )"
   ]
  },
  {
   "cell_type": "code",
   "execution_count": null,
   "id": "dd8b2a72",
   "metadata": {},
   "outputs": [],
   "source": []
  }
 ],
 "metadata": {
  "kernelspec": {
   "display_name": "PythonData",
   "language": "python",
   "name": "pythondata"
  },
  "language_info": {
   "codemirror_mode": {
    "name": "ipython",
    "version": 3
   },
   "file_extension": ".py",
   "mimetype": "text/x-python",
   "name": "python",
   "nbconvert_exporter": "python",
   "pygments_lexer": "ipython3",
   "version": "3.7.11"
  }
 },
 "nbformat": 4,
 "nbformat_minor": 5
}
