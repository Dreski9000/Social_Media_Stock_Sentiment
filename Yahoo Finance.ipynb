{
 "cells": [
  {
   "cell_type": "code",
   "execution_count": 24,
   "id": "c7ae1850",
   "metadata": {},
   "outputs": [],
   "source": [
    "#import dependencies\n",
    "import yfinance as yf"
   ]
  },
  {
   "cell_type": "code",
   "execution_count": 32,
   "id": "b1db8348",
   "metadata": {},
   "outputs": [],
   "source": [
    "#create function to scrape and format stock history\n",
    "def stock_history_scraper(ticker):       #inputs are ticker symbol\n",
    "    history = yf.Ticker(ticker).history(start=\"2012-01-31\") #gets history since start of wallstreetbets\n",
    "    history = history.drop(columns=[\"Dividends\",\"Stock Splits\"]) #removes not used columns\n",
    "    history[\"Ticker\"]=ticker #adds ticker symbol\n",
    "    return history"
   ]
  },
  {
   "cell_type": "code",
   "execution_count": 33,
   "id": "b3d17e5a",
   "metadata": {},
   "outputs": [],
   "source": [
    "sp500= stock_history_scraper(\"ES=F\")"
   ]
  },
  {
   "cell_type": "code",
   "execution_count": 35,
   "id": "b0d70a09",
   "metadata": {},
   "outputs": [],
   "source": [
    "sp500.to_csv(\"sp500_history.csv\")"
   ]
  },
  {
   "cell_type": "code",
   "execution_count": null,
   "id": "c1910c1e",
   "metadata": {},
   "outputs": [],
   "source": []
  }
 ],
 "metadata": {
  "kernelspec": {
   "display_name": "PythonData",
   "language": "python",
   "name": "pythondata"
  },
  "language_info": {
   "codemirror_mode": {
    "name": "ipython",
    "version": 3
   },
   "file_extension": ".py",
   "mimetype": "text/x-python",
   "name": "python",
   "nbconvert_exporter": "python",
   "pygments_lexer": "ipython3",
   "version": "3.7.11"
  }
 },
 "nbformat": 4,
 "nbformat_minor": 5
}
