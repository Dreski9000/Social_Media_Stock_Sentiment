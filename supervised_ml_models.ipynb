{
 "cells": [
  {
   "cell_type": "code",
   "execution_count": 65,
   "id": "f75a1fe8",
   "metadata": {},
   "outputs": [],
   "source": [
    "import pandas as pd\n",
    "#import tensorflow as tf\n",
    "import matplotlib.pyplot as plt\n",
    "from sklearn.model_selection import train_test_split\n",
    "from sklearn.preprocessing import StandardScaler,OneHotEncoder\n",
    "from collections import Counter\n",
    "from imblearn.over_sampling import RandomOverSampler\n",
    "from sklearn.metrics import balanced_accuracy_score\n",
    "from sklearn.metrics import confusion_matrix\n",
    "from imblearn.metrics import classification_report_imbalanced\n",
    "from imblearn.combine import SMOTEENN\n",
    "from sklearn.linear_model import LogisticRegression\n",
    "from imblearn.ensemble import BalancedRandomForestClassifier\n",
    "from imblearn.ensemble import EasyEnsembleClassifier"
   ]
  },
  {
   "cell_type": "code",
   "execution_count": 36,
   "id": "2e480ba8",
   "metadata": {},
   "outputs": [],
   "source": [
    "# define filepath\n",
    "file_path = \"cleaned_sentinment_1.csv\""
   ]
  },
  {
   "cell_type": "code",
   "execution_count": 37,
   "id": "0ecf093b",
   "metadata": {},
   "outputs": [
    {
     "data": {
      "text/html": [
       "<div>\n",
       "<style scoped>\n",
       "    .dataframe tbody tr th:only-of-type {\n",
       "        vertical-align: middle;\n",
       "    }\n",
       "\n",
       "    .dataframe tbody tr th {\n",
       "        vertical-align: top;\n",
       "    }\n",
       "\n",
       "    .dataframe thead th {\n",
       "        text-align: right;\n",
       "    }\n",
       "</style>\n",
       "<table border=\"1\" class=\"dataframe\">\n",
       "  <thead>\n",
       "    <tr style=\"text-align: right;\">\n",
       "      <th></th>\n",
       "      <th>Unnamed: 0</th>\n",
       "      <th>ticker</th>\n",
       "      <th>date</th>\n",
       "      <th>overall_sent_comp</th>\n",
       "      <th>overall_sent_pos</th>\n",
       "      <th>overall_sent_neg</th>\n",
       "      <th>mean_t_comp_score</th>\n",
       "      <th>mean_t_pos_score</th>\n",
       "      <th>mean_t_neg_score</th>\n",
       "      <th>mean_tgt_comp_score</th>\n",
       "      <th>...</th>\n",
       "      <th>CloseOver60</th>\n",
       "      <th>VolumeOver60</th>\n",
       "      <th>CloseOver90</th>\n",
       "      <th>VolumeOver90</th>\n",
       "      <th>Co30_d</th>\n",
       "      <th>Co60_d</th>\n",
       "      <th>Co90_d</th>\n",
       "      <th>Vo30_d</th>\n",
       "      <th>Vo60_d</th>\n",
       "      <th>Vo90_d</th>\n",
       "    </tr>\n",
       "  </thead>\n",
       "  <tbody>\n",
       "    <tr>\n",
       "      <th>0</th>\n",
       "      <td>0</td>\n",
       "      <td>DIS</td>\n",
       "      <td>2020-08-11</td>\n",
       "      <td>0.5078</td>\n",
       "      <td>0.102</td>\n",
       "      <td>0.075</td>\n",
       "      <td>0.087067</td>\n",
       "      <td>0.117833</td>\n",
       "      <td>0.0485</td>\n",
       "      <td>-0.5818</td>\n",
       "      <td>...</td>\n",
       "      <td>127.534833</td>\n",
       "      <td>8.716522e+06</td>\n",
       "      <td>135.033889</td>\n",
       "      <td>10756920.0</td>\n",
       "      <td>1</td>\n",
       "      <td>0</td>\n",
       "      <td>1</td>\n",
       "      <td>0</td>\n",
       "      <td>0</td>\n",
       "      <td>0</td>\n",
       "    </tr>\n",
       "    <tr>\n",
       "      <th>1</th>\n",
       "      <td>1</td>\n",
       "      <td>DIS</td>\n",
       "      <td>2020-08-11</td>\n",
       "      <td>0.8658</td>\n",
       "      <td>0.245</td>\n",
       "      <td>0.036</td>\n",
       "      <td>0.176100</td>\n",
       "      <td>0.164667</td>\n",
       "      <td>0.0740</td>\n",
       "      <td>0.7783</td>\n",
       "      <td>...</td>\n",
       "      <td>127.534833</td>\n",
       "      <td>8.716522e+06</td>\n",
       "      <td>135.033889</td>\n",
       "      <td>10756920.0</td>\n",
       "      <td>1</td>\n",
       "      <td>0</td>\n",
       "      <td>1</td>\n",
       "      <td>0</td>\n",
       "      <td>0</td>\n",
       "      <td>0</td>\n",
       "    </tr>\n",
       "    <tr>\n",
       "      <th>2</th>\n",
       "      <td>2</td>\n",
       "      <td>DIS</td>\n",
       "      <td>2020-08-11</td>\n",
       "      <td>0.5078</td>\n",
       "      <td>0.102</td>\n",
       "      <td>0.075</td>\n",
       "      <td>0.087067</td>\n",
       "      <td>0.117833</td>\n",
       "      <td>0.0485</td>\n",
       "      <td>-0.5818</td>\n",
       "      <td>...</td>\n",
       "      <td>127.534833</td>\n",
       "      <td>8.716522e+06</td>\n",
       "      <td>135.033889</td>\n",
       "      <td>10756920.0</td>\n",
       "      <td>1</td>\n",
       "      <td>0</td>\n",
       "      <td>1</td>\n",
       "      <td>0</td>\n",
       "      <td>0</td>\n",
       "      <td>0</td>\n",
       "    </tr>\n",
       "    <tr>\n",
       "      <th>3</th>\n",
       "      <td>3</td>\n",
       "      <td>DIS</td>\n",
       "      <td>2020-08-11</td>\n",
       "      <td>0.5078</td>\n",
       "      <td>0.102</td>\n",
       "      <td>0.075</td>\n",
       "      <td>0.087067</td>\n",
       "      <td>0.117833</td>\n",
       "      <td>0.0485</td>\n",
       "      <td>-0.5818</td>\n",
       "      <td>...</td>\n",
       "      <td>127.534833</td>\n",
       "      <td>8.716522e+06</td>\n",
       "      <td>135.033889</td>\n",
       "      <td>10756920.0</td>\n",
       "      <td>1</td>\n",
       "      <td>0</td>\n",
       "      <td>1</td>\n",
       "      <td>0</td>\n",
       "      <td>0</td>\n",
       "      <td>0</td>\n",
       "    </tr>\n",
       "    <tr>\n",
       "      <th>4</th>\n",
       "      <td>4</td>\n",
       "      <td>DIS</td>\n",
       "      <td>2020-08-11</td>\n",
       "      <td>-0.5994</td>\n",
       "      <td>0.000</td>\n",
       "      <td>0.438</td>\n",
       "      <td>-0.599400</td>\n",
       "      <td>0.000000</td>\n",
       "      <td>0.4380</td>\n",
       "      <td>-0.5994</td>\n",
       "      <td>...</td>\n",
       "      <td>127.534833</td>\n",
       "      <td>8.716522e+06</td>\n",
       "      <td>135.033889</td>\n",
       "      <td>10756920.0</td>\n",
       "      <td>1</td>\n",
       "      <td>0</td>\n",
       "      <td>1</td>\n",
       "      <td>0</td>\n",
       "      <td>0</td>\n",
       "      <td>0</td>\n",
       "    </tr>\n",
       "  </tbody>\n",
       "</table>\n",
       "<p>5 rows × 28 columns</p>\n",
       "</div>"
      ],
      "text/plain": [
       "   Unnamed: 0 ticker        date  overall_sent_comp  overall_sent_pos  \\\n",
       "0           0    DIS  2020-08-11             0.5078             0.102   \n",
       "1           1    DIS  2020-08-11             0.8658             0.245   \n",
       "2           2    DIS  2020-08-11             0.5078             0.102   \n",
       "3           3    DIS  2020-08-11             0.5078             0.102   \n",
       "4           4    DIS  2020-08-11            -0.5994             0.000   \n",
       "\n",
       "   overall_sent_neg  mean_t_comp_score  mean_t_pos_score  mean_t_neg_score  \\\n",
       "0             0.075           0.087067          0.117833            0.0485   \n",
       "1             0.036           0.176100          0.164667            0.0740   \n",
       "2             0.075           0.087067          0.117833            0.0485   \n",
       "3             0.075           0.087067          0.117833            0.0485   \n",
       "4             0.438          -0.599400          0.000000            0.4380   \n",
       "\n",
       "   mean_tgt_comp_score  ...  CloseOver60  VolumeOver60 CloseOver90  \\\n",
       "0              -0.5818  ...   127.534833  8.716522e+06  135.033889   \n",
       "1               0.7783  ...   127.534833  8.716522e+06  135.033889   \n",
       "2              -0.5818  ...   127.534833  8.716522e+06  135.033889   \n",
       "3              -0.5818  ...   127.534833  8.716522e+06  135.033889   \n",
       "4              -0.5994  ...   127.534833  8.716522e+06  135.033889   \n",
       "\n",
       "   VolumeOver90  Co30_d  Co60_d  Co90_d  Vo30_d  Vo60_d  Vo90_d  \n",
       "0    10756920.0       1       0       1       0       0       0  \n",
       "1    10756920.0       1       0       1       0       0       0  \n",
       "2    10756920.0       1       0       1       0       0       0  \n",
       "3    10756920.0       1       0       1       0       0       0  \n",
       "4    10756920.0       1       0       1       0       0       0  \n",
       "\n",
       "[5 rows x 28 columns]"
      ]
     },
     "execution_count": 37,
     "metadata": {},
     "output_type": "execute_result"
    }
   ],
   "source": [
    "sentiment_df = pd.read_csv(file_path)\n",
    "sentiment_df.head()"
   ]
  },
  {
   "cell_type": "code",
   "execution_count": 38,
   "id": "6382de77",
   "metadata": {},
   "outputs": [
    {
     "data": {
      "text/html": [
       "<div>\n",
       "<style scoped>\n",
       "    .dataframe tbody tr th:only-of-type {\n",
       "        vertical-align: middle;\n",
       "    }\n",
       "\n",
       "    .dataframe tbody tr th {\n",
       "        vertical-align: top;\n",
       "    }\n",
       "\n",
       "    .dataframe thead th {\n",
       "        text-align: right;\n",
       "    }\n",
       "</style>\n",
       "<table border=\"1\" class=\"dataframe\">\n",
       "  <thead>\n",
       "    <tr style=\"text-align: right;\">\n",
       "      <th></th>\n",
       "      <th>overall_sent_comp</th>\n",
       "      <th>overall_sent_pos</th>\n",
       "      <th>overall_sent_neg</th>\n",
       "      <th>mean_t_comp_score</th>\n",
       "      <th>mean_t_pos_score</th>\n",
       "      <th>mean_t_neg_score</th>\n",
       "      <th>mean_tgt_comp_score</th>\n",
       "      <th>mean_tgt_pos_score</th>\n",
       "      <th>mean_tgt_neg_score</th>\n",
       "      <th>mean_custom_score</th>\n",
       "    </tr>\n",
       "  </thead>\n",
       "  <tbody>\n",
       "    <tr>\n",
       "      <th>0</th>\n",
       "      <td>0.5078</td>\n",
       "      <td>0.102</td>\n",
       "      <td>0.075</td>\n",
       "      <td>0.087067</td>\n",
       "      <td>0.117833</td>\n",
       "      <td>0.0485</td>\n",
       "      <td>-0.5818</td>\n",
       "      <td>0.084</td>\n",
       "      <td>0.157</td>\n",
       "      <td>0.0</td>\n",
       "    </tr>\n",
       "    <tr>\n",
       "      <th>1</th>\n",
       "      <td>0.8658</td>\n",
       "      <td>0.245</td>\n",
       "      <td>0.036</td>\n",
       "      <td>0.176100</td>\n",
       "      <td>0.164667</td>\n",
       "      <td>0.0740</td>\n",
       "      <td>0.7783</td>\n",
       "      <td>0.494</td>\n",
       "      <td>0.000</td>\n",
       "      <td>0.0</td>\n",
       "    </tr>\n",
       "    <tr>\n",
       "      <th>2</th>\n",
       "      <td>0.5078</td>\n",
       "      <td>0.102</td>\n",
       "      <td>0.075</td>\n",
       "      <td>0.087067</td>\n",
       "      <td>0.117833</td>\n",
       "      <td>0.0485</td>\n",
       "      <td>-0.5818</td>\n",
       "      <td>0.084</td>\n",
       "      <td>0.157</td>\n",
       "      <td>0.0</td>\n",
       "    </tr>\n",
       "    <tr>\n",
       "      <th>3</th>\n",
       "      <td>0.5078</td>\n",
       "      <td>0.102</td>\n",
       "      <td>0.075</td>\n",
       "      <td>0.087067</td>\n",
       "      <td>0.117833</td>\n",
       "      <td>0.0485</td>\n",
       "      <td>-0.5818</td>\n",
       "      <td>0.084</td>\n",
       "      <td>0.157</td>\n",
       "      <td>0.0</td>\n",
       "    </tr>\n",
       "    <tr>\n",
       "      <th>4</th>\n",
       "      <td>-0.5994</td>\n",
       "      <td>0.000</td>\n",
       "      <td>0.438</td>\n",
       "      <td>-0.599400</td>\n",
       "      <td>0.000000</td>\n",
       "      <td>0.4380</td>\n",
       "      <td>-0.5994</td>\n",
       "      <td>0.000</td>\n",
       "      <td>0.438</td>\n",
       "      <td>0.0</td>\n",
       "    </tr>\n",
       "  </tbody>\n",
       "</table>\n",
       "</div>"
      ],
      "text/plain": [
       "   overall_sent_comp  overall_sent_pos  overall_sent_neg  mean_t_comp_score  \\\n",
       "0             0.5078             0.102             0.075           0.087067   \n",
       "1             0.8658             0.245             0.036           0.176100   \n",
       "2             0.5078             0.102             0.075           0.087067   \n",
       "3             0.5078             0.102             0.075           0.087067   \n",
       "4            -0.5994             0.000             0.438          -0.599400   \n",
       "\n",
       "   mean_t_pos_score  mean_t_neg_score  mean_tgt_comp_score  \\\n",
       "0          0.117833            0.0485              -0.5818   \n",
       "1          0.164667            0.0740               0.7783   \n",
       "2          0.117833            0.0485              -0.5818   \n",
       "3          0.117833            0.0485              -0.5818   \n",
       "4          0.000000            0.4380              -0.5994   \n",
       "\n",
       "   mean_tgt_pos_score  mean_tgt_neg_score  mean_custom_score  \n",
       "0               0.084               0.157                0.0  \n",
       "1               0.494               0.000                0.0  \n",
       "2               0.084               0.157                0.0  \n",
       "3               0.084               0.157                0.0  \n",
       "4               0.000               0.438                0.0  "
      ]
     },
     "execution_count": 38,
     "metadata": {},
     "output_type": "execute_result"
    }
   ],
   "source": [
    "# Data cleaning was previously performed in other files\n",
    "# Set up the different target arrays\n",
    "y_1 = sentiment_df['Co30_d']\n",
    "y_2 = sentiment_df['Co60_d']\n",
    "y_3 = sentiment_df['Co90_d']\n",
    "\n",
    "#verb_tense = sentiment_df['verb_tense']\n",
    "\n",
    "X = sentiment_df.drop(columns=['Close', 'ticker', 'date', 'verb_tense',\n",
    "       'Volume', 'CloseOver30', 'VolumeOver30', 'CloseOver60', 'VolumeOver60',\n",
    "       'CloseOver90', 'VolumeOver90', 'Co30_d', 'Co60_d', 'Co90_d', 'Vo30_d',\n",
    "       'Vo60_d', 'Vo90_d'])\n",
    "\n",
    "\n",
    "X = X.astype('float64')\n",
    "# # add verb_tense field back in\n",
    "#X['verb_tense'] = verb_tense\n",
    "X = X.drop(columns='Unnamed: 0')\n",
    "#X = pd.get_dummies(X)\n",
    "X.head()"
   ]
  },
  {
   "cell_type": "markdown",
   "id": "45b31ac1",
   "metadata": {},
   "source": [
    "### Logistic Regression Models"
   ]
  },
  {
   "cell_type": "code",
   "execution_count": 39,
   "id": "709ce8c0",
   "metadata": {},
   "outputs": [],
   "source": [
    "# Split the preprocessed data into a training and testing dataset for N30d\n",
    "X_train, X_test, y_train, y_test = train_test_split(X, y_1)"
   ]
  },
  {
   "cell_type": "code",
   "execution_count": 40,
   "id": "c6585ac4",
   "metadata": {},
   "outputs": [
    {
     "data": {
      "text/html": [
       "<div>\n",
       "<style scoped>\n",
       "    .dataframe tbody tr th:only-of-type {\n",
       "        vertical-align: middle;\n",
       "    }\n",
       "\n",
       "    .dataframe tbody tr th {\n",
       "        vertical-align: top;\n",
       "    }\n",
       "\n",
       "    .dataframe thead th {\n",
       "        text-align: right;\n",
       "    }\n",
       "</style>\n",
       "<table border=\"1\" class=\"dataframe\">\n",
       "  <thead>\n",
       "    <tr style=\"text-align: right;\">\n",
       "      <th></th>\n",
       "      <th>overall_sent_comp</th>\n",
       "      <th>overall_sent_pos</th>\n",
       "      <th>overall_sent_neg</th>\n",
       "      <th>mean_t_comp_score</th>\n",
       "      <th>mean_t_pos_score</th>\n",
       "      <th>mean_t_neg_score</th>\n",
       "      <th>mean_tgt_comp_score</th>\n",
       "      <th>mean_tgt_pos_score</th>\n",
       "      <th>mean_tgt_neg_score</th>\n",
       "      <th>mean_custom_score</th>\n",
       "    </tr>\n",
       "  </thead>\n",
       "  <tbody>\n",
       "    <tr>\n",
       "      <th>269833</th>\n",
       "      <td>-0.3559</td>\n",
       "      <td>0.076</td>\n",
       "      <td>0.085</td>\n",
       "      <td>-0.07220</td>\n",
       "      <td>0.081667</td>\n",
       "      <td>0.084000</td>\n",
       "      <td>0.4404</td>\n",
       "      <td>0.245</td>\n",
       "      <td>0.000</td>\n",
       "      <td>0.0</td>\n",
       "    </tr>\n",
       "    <tr>\n",
       "      <th>155364</th>\n",
       "      <td>0.7983</td>\n",
       "      <td>0.025</td>\n",
       "      <td>0.011</td>\n",
       "      <td>0.79830</td>\n",
       "      <td>0.025000</td>\n",
       "      <td>0.011000</td>\n",
       "      <td>0.7983</td>\n",
       "      <td>0.025</td>\n",
       "      <td>0.011</td>\n",
       "      <td>1.0</td>\n",
       "    </tr>\n",
       "    <tr>\n",
       "      <th>691694</th>\n",
       "      <td>-0.6705</td>\n",
       "      <td>0.125</td>\n",
       "      <td>0.213</td>\n",
       "      <td>-0.07975</td>\n",
       "      <td>0.213000</td>\n",
       "      <td>0.168500</td>\n",
       "      <td>-0.7964</td>\n",
       "      <td>0.000</td>\n",
       "      <td>0.337</td>\n",
       "      <td>-1.0</td>\n",
       "    </tr>\n",
       "    <tr>\n",
       "      <th>173030</th>\n",
       "      <td>0.5195</td>\n",
       "      <td>0.024</td>\n",
       "      <td>0.018</td>\n",
       "      <td>0.07180</td>\n",
       "      <td>0.008333</td>\n",
       "      <td>0.132333</td>\n",
       "      <td>0.7983</td>\n",
       "      <td>0.025</td>\n",
       "      <td>0.011</td>\n",
       "      <td>1.0</td>\n",
       "    </tr>\n",
       "    <tr>\n",
       "      <th>55496</th>\n",
       "      <td>0.8758</td>\n",
       "      <td>0.030</td>\n",
       "      <td>0.011</td>\n",
       "      <td>0.87580</td>\n",
       "      <td>0.030000</td>\n",
       "      <td>0.011000</td>\n",
       "      <td>0.8758</td>\n",
       "      <td>0.030</td>\n",
       "      <td>0.011</td>\n",
       "      <td>1.0</td>\n",
       "    </tr>\n",
       "  </tbody>\n",
       "</table>\n",
       "</div>"
      ],
      "text/plain": [
       "        overall_sent_comp  overall_sent_pos  overall_sent_neg  \\\n",
       "269833            -0.3559             0.076             0.085   \n",
       "155364             0.7983             0.025             0.011   \n",
       "691694            -0.6705             0.125             0.213   \n",
       "173030             0.5195             0.024             0.018   \n",
       "55496              0.8758             0.030             0.011   \n",
       "\n",
       "        mean_t_comp_score  mean_t_pos_score  mean_t_neg_score  \\\n",
       "269833           -0.07220          0.081667          0.084000   \n",
       "155364            0.79830          0.025000          0.011000   \n",
       "691694           -0.07975          0.213000          0.168500   \n",
       "173030            0.07180          0.008333          0.132333   \n",
       "55496             0.87580          0.030000          0.011000   \n",
       "\n",
       "        mean_tgt_comp_score  mean_tgt_pos_score  mean_tgt_neg_score  \\\n",
       "269833               0.4404               0.245               0.000   \n",
       "155364               0.7983               0.025               0.011   \n",
       "691694              -0.7964               0.000               0.337   \n",
       "173030               0.7983               0.025               0.011   \n",
       "55496                0.8758               0.030               0.011   \n",
       "\n",
       "        mean_custom_score  \n",
       "269833                0.0  \n",
       "155364                1.0  \n",
       "691694               -1.0  \n",
       "173030                1.0  \n",
       "55496                 1.0  "
      ]
     },
     "execution_count": 40,
     "metadata": {},
     "output_type": "execute_result"
    }
   ],
   "source": [
    "\n",
    "X_train.head()"
   ]
  },
  {
   "cell_type": "code",
   "execution_count": 41,
   "id": "0bb43fc7",
   "metadata": {},
   "outputs": [
    {
     "data": {
      "text/plain": [
       "LogisticRegression()"
      ]
     },
     "execution_count": 41,
     "metadata": {},
     "output_type": "execute_result"
    }
   ],
   "source": [
    "# Train the Logistic Regression model \n",
    "model = LogisticRegression()\n",
    "model.fit(X_train, y_train)"
   ]
  },
  {
   "cell_type": "code",
   "execution_count": 42,
   "id": "b50b54c9",
   "metadata": {},
   "outputs": [
    {
     "data": {
      "text/plain": [
       "0.5795652588378268"
      ]
     },
     "execution_count": 42,
     "metadata": {},
     "output_type": "execute_result"
    }
   ],
   "source": [
    "# Calculated the balanced accuracy score for N30Days\n",
    "y_pred = model.predict(X_test)\n",
    "balanced_accuracy_score(y_test, y_pred)"
   ]
  },
  {
   "cell_type": "code",
   "execution_count": 43,
   "id": "ff591957",
   "metadata": {},
   "outputs": [],
   "source": [
    "# Split the preprocessed data into a training and testing dataset for N60d\n",
    "X_train, X_test, y_train, y_test = train_test_split(X, y_2)"
   ]
  },
  {
   "cell_type": "code",
   "execution_count": 44,
   "id": "e04b74b0",
   "metadata": {},
   "outputs": [
    {
     "data": {
      "text/plain": [
       "LogisticRegression()"
      ]
     },
     "execution_count": 44,
     "metadata": {},
     "output_type": "execute_result"
    }
   ],
   "source": [
    "# Train the Logistic Regression model \n",
    "model = LogisticRegression()\n",
    "model.fit(X_train, y_train)"
   ]
  },
  {
   "cell_type": "code",
   "execution_count": 45,
   "id": "eb8b6eb7",
   "metadata": {},
   "outputs": [
    {
     "data": {
      "text/plain": [
       "0.5008455425272363"
      ]
     },
     "execution_count": 45,
     "metadata": {},
     "output_type": "execute_result"
    }
   ],
   "source": [
    "# Calculated the balanced accuracy score for N60Days\n",
    "y_pred = model.predict(X_test)\n",
    "balanced_accuracy_score(y_test, y_pred)"
   ]
  },
  {
   "cell_type": "code",
   "execution_count": 46,
   "id": "be3b22f6",
   "metadata": {},
   "outputs": [],
   "source": [
    "# Split the preprocessed data into a training and testing dataset for N90d\n",
    "X_train, X_test, y_train, y_test = train_test_split(X, y_3)"
   ]
  },
  {
   "cell_type": "code",
   "execution_count": 47,
   "id": "666fc336",
   "metadata": {},
   "outputs": [
    {
     "data": {
      "text/plain": [
       "LogisticRegression()"
      ]
     },
     "execution_count": 47,
     "metadata": {},
     "output_type": "execute_result"
    }
   ],
   "source": [
    "# Train the Logistic Regression model \n",
    "model = LogisticRegression()\n",
    "model.fit(X_train, y_train)"
   ]
  },
  {
   "cell_type": "code",
   "execution_count": 48,
   "id": "e0276aaf",
   "metadata": {},
   "outputs": [
    {
     "data": {
      "text/plain": [
       "0.5"
      ]
     },
     "execution_count": 48,
     "metadata": {},
     "output_type": "execute_result"
    }
   ],
   "source": [
    "# Calculated the balanced accuracy score for N90Days\n",
    "y_pred = model.predict(X_test)\n",
    "balanced_accuracy_score(y_test, y_pred)"
   ]
  },
  {
   "cell_type": "markdown",
   "id": "82f7cb7a",
   "metadata": {},
   "source": [
    "### Balanced Random Forest Classifier"
   ]
  },
  {
   "cell_type": "code",
   "execution_count": 52,
   "id": "82ffb060",
   "metadata": {},
   "outputs": [],
   "source": [
    "# Split the preprocessed data into a training and testing dataset for N30d\n",
    "X_train, X_test, y_train, y_test = train_test_split(X, y_1)"
   ]
  },
  {
   "cell_type": "code",
   "execution_count": 53,
   "id": "9dda8e8c",
   "metadata": {},
   "outputs": [
    {
     "data": {
      "text/plain": [
       "BalancedRandomForestClassifier(random_state=1)"
      ]
     },
     "execution_count": 53,
     "metadata": {},
     "output_type": "execute_result"
    }
   ],
   "source": [
    "# Resample the training data with the BalancedRandomForestClassifier\n",
    "rf_model = BalancedRandomForestClassifier(n_estimators=100)  # 100 estimators is default\n",
    "rf_model"
   ]
  },
  {
   "cell_type": "code",
   "execution_count": 54,
   "id": "e5818b10",
   "metadata": {},
   "outputs": [
    {
     "data": {
      "text/plain": [
       "0.6531089749482861"
      ]
     },
     "execution_count": 54,
     "metadata": {},
     "output_type": "execute_result"
    }
   ],
   "source": [
    "# Calculated the balanced accuracy score\n",
    "rf_model.fit(X_train, y_train)\n",
    "predictions = rf_model.predict(X_test)\n",
    "balanced_accuracy_score(y_test, predictions)"
   ]
  },
  {
   "cell_type": "code",
   "execution_count": 56,
   "id": "3a4d6aa6",
   "metadata": {},
   "outputs": [],
   "source": [
    "# Split the preprocessed data into a training and testing dataset for N60d\n",
    "X_train, X_test, y_train, y_test = train_test_split(X, y_2)"
   ]
  },
  {
   "cell_type": "code",
   "execution_count": 57,
   "id": "4a501278",
   "metadata": {},
   "outputs": [
    {
     "data": {
      "text/plain": [
       "BalancedRandomForestClassifier(random_state=1)"
      ]
     },
     "execution_count": 57,
     "metadata": {},
     "output_type": "execute_result"
    }
   ],
   "source": [
    "# Resample the training data with the BalancedRandomForestClassifier\n",
    "rf_model = BalancedRandomForestClassifier(n_estimators=100)  # 100 estimators is default\n",
    "rf_model"
   ]
  },
  {
   "cell_type": "code",
   "execution_count": 58,
   "id": "c5076cda",
   "metadata": {},
   "outputs": [
    {
     "data": {
      "text/plain": [
       "0.6130188716840952"
      ]
     },
     "execution_count": 58,
     "metadata": {},
     "output_type": "execute_result"
    }
   ],
   "source": [
    "# Calculated the balanced accuracy score\n",
    "rf_model.fit(X_train, y_train)\n",
    "predictions = rf_model.predict(X_test)\n",
    "balanced_accuracy_score(y_test, predictions)"
   ]
  },
  {
   "cell_type": "code",
   "execution_count": 59,
   "id": "184be611",
   "metadata": {},
   "outputs": [],
   "source": [
    "# Split the preprocessed data into a training and testing dataset for N90d\n",
    "X_train, X_test, y_train, y_test = train_test_split(X, y_3)"
   ]
  },
  {
   "cell_type": "code",
   "execution_count": 60,
   "id": "c7fd3b98",
   "metadata": {},
   "outputs": [
    {
     "data": {
      "text/plain": [
       "BalancedRandomForestClassifier(random_state=1)"
      ]
     },
     "execution_count": 60,
     "metadata": {},
     "output_type": "execute_result"
    }
   ],
   "source": [
    "# Resample the training data with the BalancedRandomForestClassifier\n",
    "rf_model = BalancedRandomForestClassifier(n_estimators=100)  # 100 estimators is default\n",
    "rf_model"
   ]
  },
  {
   "cell_type": "code",
   "execution_count": 61,
   "id": "2e161265",
   "metadata": {},
   "outputs": [
    {
     "data": {
      "text/plain": [
       "0.6055138596316851"
      ]
     },
     "execution_count": 61,
     "metadata": {},
     "output_type": "execute_result"
    }
   ],
   "source": [
    "# Calculated the balanced accuracy score\n",
    "rf_model.fit(X_train, y_train)\n",
    "predictions = rf_model.predict(X_test)\n",
    "balanced_accuracy_score(y_test, predictions)"
   ]
  },
  {
   "cell_type": "code",
   "execution_count": 62,
   "id": "602b6681",
   "metadata": {},
   "outputs": [
    {
     "data": {
      "text/plain": [
       "array([0.1306491 , 0.11635813, 0.09335004, 0.13167919, 0.10860028,\n",
       "       0.08933545, 0.11686865, 0.09497116, 0.07004776, 0.04814025])"
      ]
     },
     "execution_count": 62,
     "metadata": {},
     "output_type": "execute_result"
    }
   ],
   "source": [
    "rf_model.feature_importances_"
   ]
  },
  {
   "cell_type": "code",
   "execution_count": 63,
   "id": "3dedac21",
   "metadata": {},
   "outputs": [
    {
     "data": {
      "text/plain": [
       "[(0.13167918718135, 'mean_t_comp_score'),\n",
       " (0.13064909723728418, 'overall_sent_comp'),\n",
       " (0.11686865452567494, 'mean_tgt_comp_score'),\n",
       " (0.11635812920233551, 'overall_sent_pos'),\n",
       " (0.1086002752244493, 'mean_t_pos_score'),\n",
       " (0.09497115707710754, 'mean_tgt_pos_score'),\n",
       " (0.09335003604714269, 'overall_sent_neg'),\n",
       " (0.0893354547197863, 'mean_t_neg_score'),\n",
       " (0.07004775715321962, 'mean_tgt_neg_score'),\n",
       " (0.048140251631649915, 'mean_custom_score')]"
      ]
     },
     "execution_count": 63,
     "metadata": {},
     "output_type": "execute_result"
    }
   ],
   "source": [
    "# List the features sorted in descending order by feature importance\n",
    "sorted(zip(rf_model.feature_importances_, X.columns), reverse=True)"
   ]
  },
  {
   "cell_type": "markdown",
   "id": "d7ea9524",
   "metadata": {},
   "source": [
    "### Easy Ensemble AdaBoost Classifier"
   ]
  },
  {
   "cell_type": "code",
   "execution_count": 66,
   "id": "3d26887d",
   "metadata": {},
   "outputs": [],
   "source": [
    "# Train the EasyEnsembleClassifier\n",
    "ee_model = EasyEnsembleClassifier(n_estimators=100)"
   ]
  },
  {
   "cell_type": "code",
   "execution_count": 67,
   "id": "f36d9dcc",
   "metadata": {},
   "outputs": [],
   "source": [
    "# Split the preprocessed data into a training and testing dataset for N30d\n",
    "X_train, X_test, y_train, y_test = train_test_split(X, y_1)"
   ]
  },
  {
   "cell_type": "code",
   "execution_count": 68,
   "id": "57f5007c",
   "metadata": {},
   "outputs": [
    {
     "data": {
      "text/plain": [
       "0.5888230948451443"
      ]
     },
     "execution_count": 68,
     "metadata": {},
     "output_type": "execute_result"
    }
   ],
   "source": [
    "# Calculated the balanced accuracy score\n",
    "ee_model = ee_model.fit(X_train, y_train)\n",
    "predictions = ee_model.predict(X_test)\n",
    "balanced_accuracy_score(y_test, predictions)"
   ]
  },
  {
   "cell_type": "code",
   "execution_count": 69,
   "id": "35d98f45",
   "metadata": {},
   "outputs": [],
   "source": [
    "# Split the preprocessed data into a training and testing dataset for N60d\n",
    "X_train, X_test, y_train, y_test = train_test_split(X, y_2)"
   ]
  },
  {
   "cell_type": "code",
   "execution_count": 70,
   "id": "49d9f7dc",
   "metadata": {},
   "outputs": [
    {
     "data": {
      "text/plain": [
       "0.5395573863334435"
      ]
     },
     "execution_count": 70,
     "metadata": {},
     "output_type": "execute_result"
    }
   ],
   "source": [
    "# Calculated the balanced accuracy score\n",
    "ee_model = ee_model.fit(X_train, y_train)\n",
    "predictions = ee_model.predict(X_test)\n",
    "balanced_accuracy_score(y_test, predictions)"
   ]
  },
  {
   "cell_type": "code",
   "execution_count": 71,
   "id": "73f237ca",
   "metadata": {},
   "outputs": [],
   "source": [
    "# Split the preprocessed data into a training and testing dataset for N90d\n",
    "X_train, X_test, y_train, y_test = train_test_split(X, y_3)"
   ]
  },
  {
   "cell_type": "code",
   "execution_count": 72,
   "id": "0c5ef89d",
   "metadata": {},
   "outputs": [
    {
     "data": {
      "text/plain": [
       "0.5221864124308839"
      ]
     },
     "execution_count": 72,
     "metadata": {},
     "output_type": "execute_result"
    }
   ],
   "source": [
    "# Calculated the balanced accuracy score\n",
    "ee_model = ee_model.fit(X_train, y_train)\n",
    "predictions = ee_model.predict(X_test)\n",
    "balanced_accuracy_score(y_test, predictions)"
   ]
  },
  {
   "cell_type": "code",
   "execution_count": null,
   "id": "fc40e9ba",
   "metadata": {},
   "outputs": [],
   "source": []
  }
 ],
 "metadata": {
  "kernelspec": {
   "display_name": "mlenv",
   "language": "python",
   "name": "mlenv"
  },
  "language_info": {
   "codemirror_mode": {
    "name": "ipython",
    "version": 3
   },
   "file_extension": ".py",
   "mimetype": "text/x-python",
   "name": "python",
   "nbconvert_exporter": "python",
   "pygments_lexer": "ipython3",
   "version": "3.7.11"
  }
 },
 "nbformat": 4,
 "nbformat_minor": 5
}
