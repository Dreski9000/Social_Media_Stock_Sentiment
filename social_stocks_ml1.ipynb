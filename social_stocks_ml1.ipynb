{
 "cells": [
  {
   "cell_type": "code",
   "execution_count": 1,
   "id": "3954126c",
   "metadata": {},
   "outputs": [],
   "source": [
    "import warnings\n",
    "warnings.filterwarnings('ignore')"
   ]
  },
  {
   "cell_type": "code",
   "execution_count": 2,
   "id": "7646026a",
   "metadata": {},
   "outputs": [],
   "source": [
    "import numpy as np\n",
    "import pandas as pd\n",
    "from pathlib import Path\n",
    "from collections import Counter"
   ]
  },
  {
   "cell_type": "code",
   "execution_count": 12,
   "id": "2e73091f",
   "metadata": {},
   "outputs": [],
   "source": [
    "from sklearn.metrics import balanced_accuracy_score\n",
    "from sklearn.metrics import confusion_matrix\n",
    "from imblearn.metrics import classification_report_imbalanced"
   ]
  },
  {
   "cell_type": "code",
   "execution_count": 4,
   "id": "181b5b9f",
   "metadata": {},
   "outputs": [],
   "source": [
    "#read data\n",
    "#INSERT DATA HERE"
   ]
  },
  {
   "cell_type": "code",
   "execution_count": 5,
   "id": "e9564883",
   "metadata": {},
   "outputs": [],
   "source": [
    "# Load the data\n",
    "#file_path = Path('')\n",
    "#df = pd.read_csv(file_path, skiprows=1)[:-2]\n",
    "#df = df.loc[:, columns].copy()\n",
    "\n",
    "# Drop the null columns where all values are null\n",
    "#df = df.dropna(axis='columns', how='all')\n",
    "\n",
    "# Drop the null rows\n",
    "#df = df.dropna()\n",
    "\n",
    "#df.reset_index(inplace=True, drop=True)\n",
    "\n",
    "#df.head()"
   ]
  },
  {
   "cell_type": "code",
   "execution_count": 6,
   "id": "3ee265cd",
   "metadata": {},
   "outputs": [],
   "source": [
    "# Create our features\n",
    "#X = df.drop(columns='loan_status')\n",
    "#X = pd.get_dummies(X)\n",
    "# Create our target\n",
    "#y = df.loc[:, target].copy()"
   ]
  },
  {
   "cell_type": "code",
   "execution_count": 7,
   "id": "775685a7",
   "metadata": {},
   "outputs": [],
   "source": [
    "#X.columns"
   ]
  },
  {
   "cell_type": "code",
   "execution_count": 8,
   "id": "583aad87",
   "metadata": {},
   "outputs": [],
   "source": [
    "#X.shape"
   ]
  },
  {
   "cell_type": "code",
   "execution_count": 9,
   "id": "aacf8d93",
   "metadata": {},
   "outputs": [],
   "source": [
    "#X.describe()"
   ]
  },
  {
   "cell_type": "code",
   "execution_count": 10,
   "id": "3a47aff7",
   "metadata": {},
   "outputs": [],
   "source": [
    "# Check the balance of our target values\n",
    "#y[''].value_counts()"
   ]
  },
  {
   "cell_type": "code",
   "execution_count": 13,
   "id": "bd3f5cc1",
   "metadata": {},
   "outputs": [],
   "source": [
    "#from sklearn.model_selection import train_test_split\n",
    "#from sklearn.model_selection import train_test_split\n",
    "#X_train, X_test, y_train, y_test = train_test_split(X, y, random_state=1)"
   ]
  },
  {
   "cell_type": "code",
   "execution_count": null,
   "id": "173c955c",
   "metadata": {},
   "outputs": [],
   "source": [
    "# Resample the training data with the RandomOversampler\n",
    "#from imblearn.over_sampling import RandomOverSampler\n",
    "#ros = RandomOverSampler(random_state=1)\n",
    "#X_resampled, y_resampled = ros.fit_resample(X_train, y_train)\n",
    "#Counter(y_resampled)"
   ]
  },
  {
   "cell_type": "code",
   "execution_count": 14,
   "id": "618fee6a",
   "metadata": {},
   "outputs": [],
   "source": [
    "# Resample the training data with the BalancedRandomForestClassifier\n",
    "#from imblearn.ensemble import BalancedRandomForestClassifier\n",
    "#brf = BalancedRandomForestClassifier(n_estimators=100, random_state=1)\n",
    "#brf.fit(X_train, y_train)"
   ]
  },
  {
   "cell_type": "code",
   "execution_count": 15,
   "id": "9e713ccd",
   "metadata": {},
   "outputs": [],
   "source": [
    "# Calculated the balanced accuracy score\n",
    "#y_pred = brf.predict(X_test)\n",
    "#balanced_accuracy_score(y_test, y_pred)"
   ]
  },
  {
   "cell_type": "code",
   "execution_count": 16,
   "id": "29dcdcbd",
   "metadata": {},
   "outputs": [],
   "source": [
    "# Display the confusion matrix\n",
    "#confusion_matrix(y_test, y_pred)"
   ]
  },
  {
   "cell_type": "code",
   "execution_count": 17,
   "id": "0b838d70",
   "metadata": {},
   "outputs": [],
   "source": [
    "# Print the imbalanced classification report\n",
    "#print(classification_report_imbalanced(y_test, y_pred))"
   ]
  },
  {
   "cell_type": "code",
   "execution_count": 18,
   "id": "be9ee202",
   "metadata": {},
   "outputs": [],
   "source": [
    "# List the features sorted in descending order by feature importance\n",
    "#importances = brf.feature_importances_\n",
    "#cols = X.columns\n",
    "#feature_importances_df = pd.DataFrame({'feature':cols, 'importance': importances})\n",
    "#feature_importances_df.head()\n",
    "#feature_importances_df.sort_values('importance', ascending=False)"
   ]
  },
  {
   "cell_type": "code",
   "execution_count": 19,
   "id": "10b2ad16",
   "metadata": {},
   "outputs": [],
   "source": [
    "# Train the EasyEnsembleClassifier\n",
    "#from imblearn.ensemble import EasyEnsembleClassifier\n",
    "#eec = EasyEnsembleClassifier(n_estimators=100, random_state=1)\n",
    "#eec.fit(X_train, y_train)"
   ]
  },
  {
   "cell_type": "code",
   "execution_count": 20,
   "id": "2a1db47f",
   "metadata": {},
   "outputs": [],
   "source": [
    "# Calculated the balanced accuracy score\n",
    "#y_pred = eec.predict(X_test)\n",
    "#balanced_accuracy_score(y_test, y_pred)"
   ]
  },
  {
   "cell_type": "code",
   "execution_count": 21,
   "id": "4259f541",
   "metadata": {},
   "outputs": [],
   "source": [
    "# Display the confusion matrix\n",
    "#confusion_matrix(y_test, y_pred)"
   ]
  },
  {
   "cell_type": "code",
   "execution_count": 22,
   "id": "6f3c26d2",
   "metadata": {},
   "outputs": [],
   "source": [
    "# Print the imbalanced classification report\n",
    "#print(classification_report_imbalanced(y_test, y_pred))"
   ]
  },
  {
   "cell_type": "code",
   "execution_count": null,
   "id": "41c8aa40",
   "metadata": {},
   "outputs": [],
   "source": []
  }
 ],
 "metadata": {
  "kernelspec": {
   "display_name": "mlenv",
   "language": "python",
   "name": "mlenv"
  },
  "language_info": {
   "codemirror_mode": {
    "name": "ipython",
    "version": 3
   },
   "file_extension": ".py",
   "mimetype": "text/x-python",
   "name": "python",
   "nbconvert_exporter": "python",
   "pygments_lexer": "ipython3",
   "version": "3.7.11"
  }
 },
 "nbformat": 4,
 "nbformat_minor": 5
}
